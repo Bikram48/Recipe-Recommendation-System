{
  "cells": [
    {
      "cell_type": "markdown",
      "metadata": {
        "id": "lfBU9Q6sgOVk"
      },
      "source": [
        "**Import Libraries**"
      ]
    },
    {
      "cell_type": "code",
      "execution_count": null,
      "metadata": {
        "id": "iAOBjAv6c600"
      },
      "outputs": [],
      "source": [
        "from google.colab import files\n",
        "from google.colab import drive\n",
        "import json\n",
        "import pandas as pd"
      ]
    },
    {
      "cell_type": "markdown",
      "metadata": {
        "id": "x_hmV2l3gShk"
      },
      "source": [
        "**Download the dataset from the kaggle**"
      ]
    },
    {
      "cell_type": "code",
      "execution_count": null,
      "metadata": {
        "colab": {
          "base_uri": "https://localhost:8080/",
          "height": 1000
        },
        "id": "2dYN-p9Jmu8Q",
        "outputId": "c3036fa6-dd3b-42fe-a032-2a5d205d1da9"
      },
      "outputs": [
        {
          "data": {
            "text/html": [
              "\n",
              "     <input type=\"file\" id=\"files-288ffb4f-a861-4e6f-9502-3b9d12af0fac\" name=\"files[]\" multiple disabled\n",
              "        style=\"border:none\" />\n",
              "     <output id=\"result-288ffb4f-a861-4e6f-9502-3b9d12af0fac\">\n",
              "      Upload widget is only available when the cell has been executed in the\n",
              "      current browser session. Please rerun this cell to enable.\n",
              "      </output>\n",
              "      <script>// Copyright 2017 Google LLC\n",
              "//\n",
              "// Licensed under the Apache License, Version 2.0 (the \"License\");\n",
              "// you may not use this file except in compliance with the License.\n",
              "// You may obtain a copy of the License at\n",
              "//\n",
              "//      http://www.apache.org/licenses/LICENSE-2.0\n",
              "//\n",
              "// Unless required by applicable law or agreed to in writing, software\n",
              "// distributed under the License is distributed on an \"AS IS\" BASIS,\n",
              "// WITHOUT WARRANTIES OR CONDITIONS OF ANY KIND, either express or implied.\n",
              "// See the License for the specific language governing permissions and\n",
              "// limitations under the License.\n",
              "\n",
              "/**\n",
              " * @fileoverview Helpers for google.colab Python module.\n",
              " */\n",
              "(function(scope) {\n",
              "function span(text, styleAttributes = {}) {\n",
              "  const element = document.createElement('span');\n",
              "  element.textContent = text;\n",
              "  for (const key of Object.keys(styleAttributes)) {\n",
              "    element.style[key] = styleAttributes[key];\n",
              "  }\n",
              "  return element;\n",
              "}\n",
              "\n",
              "// Max number of bytes which will be uploaded at a time.\n",
              "const MAX_PAYLOAD_SIZE = 100 * 1024;\n",
              "\n",
              "function _uploadFiles(inputId, outputId) {\n",
              "  const steps = uploadFilesStep(inputId, outputId);\n",
              "  const outputElement = document.getElementById(outputId);\n",
              "  // Cache steps on the outputElement to make it available for the next call\n",
              "  // to uploadFilesContinue from Python.\n",
              "  outputElement.steps = steps;\n",
              "\n",
              "  return _uploadFilesContinue(outputId);\n",
              "}\n",
              "\n",
              "// This is roughly an async generator (not supported in the browser yet),\n",
              "// where there are multiple asynchronous steps and the Python side is going\n",
              "// to poll for completion of each step.\n",
              "// This uses a Promise to block the python side on completion of each step,\n",
              "// then passes the result of the previous step as the input to the next step.\n",
              "function _uploadFilesContinue(outputId) {\n",
              "  const outputElement = document.getElementById(outputId);\n",
              "  const steps = outputElement.steps;\n",
              "\n",
              "  const next = steps.next(outputElement.lastPromiseValue);\n",
              "  return Promise.resolve(next.value.promise).then((value) => {\n",
              "    // Cache the last promise value to make it available to the next\n",
              "    // step of the generator.\n",
              "    outputElement.lastPromiseValue = value;\n",
              "    return next.value.response;\n",
              "  });\n",
              "}\n",
              "\n",
              "/**\n",
              " * Generator function which is called between each async step of the upload\n",
              " * process.\n",
              " * @param {string} inputId Element ID of the input file picker element.\n",
              " * @param {string} outputId Element ID of the output display.\n",
              " * @return {!Iterable<!Object>} Iterable of next steps.\n",
              " */\n",
              "function* uploadFilesStep(inputId, outputId) {\n",
              "  const inputElement = document.getElementById(inputId);\n",
              "  inputElement.disabled = false;\n",
              "\n",
              "  const outputElement = document.getElementById(outputId);\n",
              "  outputElement.innerHTML = '';\n",
              "\n",
              "  const pickedPromise = new Promise((resolve) => {\n",
              "    inputElement.addEventListener('change', (e) => {\n",
              "      resolve(e.target.files);\n",
              "    });\n",
              "  });\n",
              "\n",
              "  const cancel = document.createElement('button');\n",
              "  inputElement.parentElement.appendChild(cancel);\n",
              "  cancel.textContent = 'Cancel upload';\n",
              "  const cancelPromise = new Promise((resolve) => {\n",
              "    cancel.onclick = () => {\n",
              "      resolve(null);\n",
              "    };\n",
              "  });\n",
              "\n",
              "  // Wait for the user to pick the files.\n",
              "  const files = yield {\n",
              "    promise: Promise.race([pickedPromise, cancelPromise]),\n",
              "    response: {\n",
              "      action: 'starting',\n",
              "    }\n",
              "  };\n",
              "\n",
              "  cancel.remove();\n",
              "\n",
              "  // Disable the input element since further picks are not allowed.\n",
              "  inputElement.disabled = true;\n",
              "\n",
              "  if (!files) {\n",
              "    return {\n",
              "      response: {\n",
              "        action: 'complete',\n",
              "      }\n",
              "    };\n",
              "  }\n",
              "\n",
              "  for (const file of files) {\n",
              "    const li = document.createElement('li');\n",
              "    li.append(span(file.name, {fontWeight: 'bold'}));\n",
              "    li.append(span(\n",
              "        `(${file.type || 'n/a'}) - ${file.size} bytes, ` +\n",
              "        `last modified: ${\n",
              "            file.lastModifiedDate ? file.lastModifiedDate.toLocaleDateString() :\n",
              "                                    'n/a'} - `));\n",
              "    const percent = span('0% done');\n",
              "    li.appendChild(percent);\n",
              "\n",
              "    outputElement.appendChild(li);\n",
              "\n",
              "    const fileDataPromise = new Promise((resolve) => {\n",
              "      const reader = new FileReader();\n",
              "      reader.onload = (e) => {\n",
              "        resolve(e.target.result);\n",
              "      };\n",
              "      reader.readAsArrayBuffer(file);\n",
              "    });\n",
              "    // Wait for the data to be ready.\n",
              "    let fileData = yield {\n",
              "      promise: fileDataPromise,\n",
              "      response: {\n",
              "        action: 'continue',\n",
              "      }\n",
              "    };\n",
              "\n",
              "    // Use a chunked sending to avoid message size limits. See b/62115660.\n",
              "    let position = 0;\n",
              "    do {\n",
              "      const length = Math.min(fileData.byteLength - position, MAX_PAYLOAD_SIZE);\n",
              "      const chunk = new Uint8Array(fileData, position, length);\n",
              "      position += length;\n",
              "\n",
              "      const base64 = btoa(String.fromCharCode.apply(null, chunk));\n",
              "      yield {\n",
              "        response: {\n",
              "          action: 'append',\n",
              "          file: file.name,\n",
              "          data: base64,\n",
              "        },\n",
              "      };\n",
              "\n",
              "      let percentDone = fileData.byteLength === 0 ?\n",
              "          100 :\n",
              "          Math.round((position / fileData.byteLength) * 100);\n",
              "      percent.textContent = `${percentDone}% done`;\n",
              "\n",
              "    } while (position < fileData.byteLength);\n",
              "  }\n",
              "\n",
              "  // All done.\n",
              "  yield {\n",
              "    response: {\n",
              "      action: 'complete',\n",
              "    }\n",
              "  };\n",
              "}\n",
              "\n",
              "scope.google = scope.google || {};\n",
              "scope.google.colab = scope.google.colab || {};\n",
              "scope.google.colab._files = {\n",
              "  _uploadFiles,\n",
              "  _uploadFilesContinue,\n",
              "};\n",
              "})(self);\n",
              "</script> "
            ],
            "text/plain": [
              "<IPython.core.display.HTML object>"
            ]
          },
          "metadata": {},
          "output_type": "display_data"
        },
        {
          "name": "stdout",
          "output_type": "stream",
          "text": [
            "Saving kaggle.json to kaggle.json\n",
            "Dataset URL: https://www.kaggle.com/datasets/paultimothymooney/recipenlg\n",
            "License(s): other\n",
            "Downloading recipenlg.zip to /content\n",
            " 97% 625M/643M [00:08<00:00, 74.9MB/s]\n",
            "100% 643M/643M [00:08<00:00, 80.1MB/s]\n",
            "Archive:  recipenlg.zip\n",
            "  inflating: RecipeNLG_code/README.md  \n",
            "  inflating: RecipeNLG_code/eval/evaluation.ipynb  \n",
            "  inflating: RecipeNLG_code/generation/README.md  \n",
            "  inflating: RecipeNLG_code/generation/SAMPLE.md  \n",
            "  inflating: RecipeNLG_code/generation/dataset2text.ipynb  \n",
            "  inflating: RecipeNLG_code/generation/preparation.py  \n",
            "  inflating: RecipeNLG_code/generation/run_generation.py  \n",
            "  inflating: RecipeNLG_code/generation/run_lm_finetuning.py  \n",
            "  inflating: RecipeNLG_code/generation/run_lm_finetuning_new.py  \n",
            "  inflating: RecipeNLG_code/generation/run_lm_finetuning_tpu.py  \n",
            "  inflating: RecipeNLG_code/generation/tokenization.py  \n",
            "  inflating: RecipeNLG_code/ner/Language2_0.ipynb  \n",
            "  inflating: RecipeNLG_code/ner/NER.ipynb  \n",
            "  inflating: RecipeNLG_code/ner/model/meta.json  \n",
            "  inflating: RecipeNLG_code/ner/model/ner/cfg  \n",
            "  inflating: RecipeNLG_code/ner/model/ner/model  \n",
            "  inflating: RecipeNLG_code/ner/model/ner/moves  \n",
            "  inflating: RecipeNLG_code/ner/model/tokenizer  \n",
            "  inflating: RecipeNLG_code/ner/model/vocab/key2row  \n",
            "  inflating: RecipeNLG_code/ner/model/vocab/lexemes.bin  \n",
            "  inflating: RecipeNLG_code/ner/model/vocab/strings.json  \n",
            "  inflating: RecipeNLG_code/ner/model/vocab/vectors  \n",
            "  inflating: RecipeNLG_code/recipes_spider/Makefile  \n",
            "  inflating: RecipeNLG_code/recipes_spider/README.md  \n",
            "  inflating: RecipeNLG_code/recipes_spider/recipes_spider/__init__.py  \n",
            "  inflating: RecipeNLG_code/recipes_spider/recipes_spider/files/hubs.txt  \n",
            "  inflating: RecipeNLG_code/recipes_spider/recipes_spider/items.py  \n",
            "  inflating: RecipeNLG_code/recipes_spider/recipes_spider/middlewares.py  \n",
            "  inflating: RecipeNLG_code/recipes_spider/recipes_spider/pipelines.py  \n",
            "  inflating: RecipeNLG_code/recipes_spider/recipes_spider/settings.py  \n",
            "  inflating: RecipeNLG_code/recipes_spider/recipes_spider/spiders/__init__.py  \n",
            "  inflating: RecipeNLG_code/recipes_spider/recipes_spider/spiders/cdkitchen.py  \n",
            "  inflating: RecipeNLG_code/recipes_spider/recipes_spider/spiders/epicurious.py  \n",
            "  inflating: RecipeNLG_code/recipes_spider/recipes_spider/spiders/example.py  \n",
            "  inflating: RecipeNLG_code/recipes_spider/recipes_spider/spiders/food52.py  \n",
            "  inflating: RecipeNLG_code/recipes_spider/recipes_spider/spiders/myrecipes.py  \n",
            "  inflating: RecipeNLG_code/recipes_spider/recipes_spider/spiders/seriouseats.py  \n",
            "  inflating: RecipeNLG_code/recipes_spider/recipes_spider/spiders/tasteofhome.py  \n",
            "  inflating: RecipeNLG_code/recipes_spider/recipes_spider/spiders/tastykitchen.py  \n",
            "  inflating: RecipeNLG_code/recipes_spider/recipes_spider/spiders/ucgCrawler.py  \n",
            "  inflating: RecipeNLG_code/recipes_spider/recipes_spider/spiders/ucgSpider.py  \n",
            "  inflating: RecipeNLG_code/recipes_spider/recipes_spider/spiders/yummly.py  \n",
            "  inflating: RecipeNLG_code/recipes_spider/scrapy.cfg  \n",
            "  inflating: RecipeNLG_code/recipes_spider/setup.py  \n",
            "  inflating: RecipeNLG_code/requirements.txt  \n",
            "  inflating: RecipeNLG_code/scraping-scripts/.gitignore  \n",
            "  inflating: RecipeNLG_code/scraping-scripts/01-single_dataset.ipynb  \n",
            "  inflating: RecipeNLG_code/scraping-scripts/02-dataset_tuning.ipynb  \n",
            "  inflating: RecipeNLG_code/scraping-scripts/03-join_datasets.ipynb  \n",
            "  inflating: RecipeNLG_code/scraping-scripts/04.1-cleanse-positive-pairs-dataset.py  \n",
            "  inflating: RecipeNLG_code/scraping-scripts/04.2-train-dataset-find-similar.sh  \n",
            "  inflating: RecipeNLG_code/scraping-scripts/04.3-determine-hyperparameter-value.ipynb  \n",
            "  inflating: RecipeNLG_code/scraping-scripts/04.4-dataset-find-similar.sh  \n",
            "  inflating: RecipeNLG_code/scraping-scripts/04.5-duplicates-veryfication.ipynb  \n",
            "  inflating: RecipeNLG_code/scraping-scripts/05-advanced-duplicates-removal.ipynb  \n",
            "  inflating: RecipeNLG_code/scraping-scripts/06-comparisons_plots.ipynb  \n",
            "  inflating: RecipeNLG_code/scraping-scripts/README.md  \n",
            "  inflating: RecipeNLG_code/scraping-scripts/allrecipes/allrecipes.ipynb  \n",
            "  inflating: RecipeNLG_code/scraping-scripts/allrecipes/allrecipes_spider.ipynb  \n",
            "  inflating: RecipeNLG_code/scraping-scripts/allrecipes/analysis.ipynb  \n",
            "  inflating: RecipeNLG_code/scraping-scripts/allrecipes/crawl_allrecipes_faster.py  \n",
            "  inflating: RecipeNLG_code/scraping-scripts/allrecipes/packer.py  \n",
            "  inflating: RecipeNLG_code/scraping-scripts/cookbooks/analysis.ipynb  \n",
            "  inflating: RecipeNLG_code/scraping-scripts/cookbooks/cookbooks.ipynb  \n",
            "  inflating: RecipeNLG_code/scraping-scripts/cookbooks/crawl_cookbooks_faster.py  \n",
            "  inflating: RecipeNLG_code/scraping-scripts/cookbooks/packer.py  \n",
            "  inflating: RecipeNLG_code/scraping-scripts/crawling_framework_v1.ipynb  \n",
            "  inflating: RecipeNLG_code/scraping-scripts/crawling_prep.ipynb  \n",
            "  inflating: RecipeNLG_code/scraping-scripts/extra-01-remove_different_language_recipes.ipynb  \n",
            "  inflating: RecipeNLG_code/scraping-scripts/extra-02-join-ner-url.ipynb  \n",
            "  inflating: RecipeNLG_code/scraping-scripts/foodcom/crawl_foodcom.py  \n",
            "  inflating: RecipeNLG_code/scraping-scripts/foodcom/foodcom.ipynb  \n",
            "  inflating: RecipeNLG_code/scraping-scripts/foodcom/packer.py  \n",
            "  inflating: RecipeNLG_code/scraping-scripts/manual-checkup.ipynb  \n",
            "  inflating: RecipeNLG_code/scraping-scripts/recipes-plus/crawl_recipes_plus.py  \n",
            "  inflating: RecipeNLG_code/scraping-scripts/recipes-plus/packer.py  \n",
            "  inflating: RecipeNLG_code/scraping-scripts/recipes1M-issues.ipynb  \n",
            "  inflating: RecipeNLG_code/scraping-scripts/recipes1M-stats.ipynb  \n",
            "  inflating: RecipeNLG_code/scraping-scripts/recipes1M-transform.ipynb  \n",
            "  inflating: RecipeNLG_code/scraping-scripts/similar_search_script.py  \n",
            "  inflating: RecipeNLG_code/scraping-scripts/train-positive-pairs-cleanse.ipynb  \n",
            "  inflating: RecipeNLG_code/scraping-scripts/yummly/yummly.ipynb  \n",
            "  inflating: RecipeNLG_dataset.csv   \n",
            "  inflating: RecipeNLG_license.png   \n",
            "  inflating: RecipeNLG_paper.pdf     \n"
          ]
        }
      ],
      "source": [
        "# ! pip install -q kaggle\n",
        "files.upload()\n",
        "! mkdir ~/.kaggle\n",
        "! cp kaggle.json ~/.kaggle/\n",
        "! chmod 600 ~/.kaggle/kaggle.json\n",
        "#!/bin/bash\n",
        "!kaggle datasets download -d paultimothymooney/recipenlg\n",
        "!unzip recipenlg.zip"
      ]
    },
    {
      "cell_type": "markdown",
      "metadata": {
        "id": "CwumvFpMgaX5"
      },
      "source": [
        "**Read the dataset**"
      ]
    },
    {
      "cell_type": "code",
      "execution_count": null,
      "metadata": {
        "id": "De1K3ayPnSoO"
      },
      "outputs": [],
      "source": [
        "dataset = pd.read_csv('RecipeNLG_dataset.csv')"
      ]
    },
    {
      "cell_type": "code",
      "execution_count": null,
      "metadata": {
        "colab": {
          "base_uri": "https://localhost:8080/"
        },
        "id": "T5ZUbKTJneHc",
        "outputId": "76cc8c90-5e5d-4023-f919-4e0f32a405bd"
      },
      "outputs": [
        {
          "data": {
            "text/plain": [
              "2231142"
            ]
          },
          "execution_count": 4,
          "metadata": {},
          "output_type": "execute_result"
        }
      ],
      "source": [
        "len(dataset)"
      ]
    },
    {
      "cell_type": "markdown",
      "metadata": {
        "id": "C-Gjg1eXgeL_"
      },
      "source": [
        "**Since the dataset is huge we have taken only 25000 samples so it will be easy to train.**"
      ]
    },
    {
      "cell_type": "code",
      "execution_count": null,
      "metadata": {
        "id": "1vxYinpRn9DI"
      },
      "outputs": [],
      "source": [
        "dataset = dataset[:25000]"
      ]
    },
    {
      "cell_type": "code",
      "execution_count": null,
      "metadata": {
        "colab": {
          "base_uri": "https://localhost:8080/"
        },
        "id": "xJOL0yoAoJhu",
        "outputId": "dc5f01f2-a410-4e4a-ee38-fb32f690eba7"
      },
      "outputs": [
        {
          "data": {
            "text/plain": [
              "25000"
            ]
          },
          "execution_count": 6,
          "metadata": {},
          "output_type": "execute_result"
        }
      ],
      "source": [
        "len(dataset)"
      ]
    },
    {
      "cell_type": "code",
      "execution_count": null,
      "metadata": {
        "colab": {
          "base_uri": "https://localhost:8080/"
        },
        "id": "hN7I-26mplOu",
        "outputId": "7168f5a7-9483-4271-eb41-d0515bd08d4b"
      },
      "outputs": [
        {
          "data": {
            "text/plain": [
              "Index(['Unnamed: 0', 'title', 'ingredients', 'directions', 'link', 'source',\n",
              "       'NER'],\n",
              "      dtype='object')"
            ]
          },
          "execution_count": 7,
          "metadata": {},
          "output_type": "execute_result"
        }
      ],
      "source": [
        "dataset.columns"
      ]
    },
    {
      "cell_type": "markdown",
      "metadata": {
        "id": "w37xRY2tgpx6"
      },
      "source": [
        "**Removing Unnecessary columns from the dataset**"
      ]
    },
    {
      "cell_type": "code",
      "execution_count": null,
      "metadata": {
        "id": "4rd4PvCBpQLW"
      },
      "outputs": [],
      "source": [
        "dataset = dataset.drop([\"Unnamed: 0\", \"link\", \"source\"], axis=1)"
      ]
    },
    {
      "cell_type": "code",
      "execution_count": null,
      "metadata": {
        "colab": {
          "base_uri": "https://localhost:8080/",
          "height": 210
        },
        "id": "ek4taxkXoLFH",
        "outputId": "6b6a7f73-0165-441e-ccf1-646370c8e03d"
      },
      "outputs": [
        {
          "data": {
            "text/html": [
              "<div>\n",
              "<style scoped>\n",
              "    .dataframe tbody tr th:only-of-type {\n",
              "        vertical-align: middle;\n",
              "    }\n",
              "\n",
              "    .dataframe tbody tr th {\n",
              "        vertical-align: top;\n",
              "    }\n",
              "\n",
              "    .dataframe thead th {\n",
              "        text-align: right;\n",
              "    }\n",
              "</style>\n",
              "<table border=\"1\" class=\"dataframe\">\n",
              "  <thead>\n",
              "    <tr style=\"text-align: right;\">\n",
              "      <th></th>\n",
              "      <th>0</th>\n",
              "    </tr>\n",
              "  </thead>\n",
              "  <tbody>\n",
              "    <tr>\n",
              "      <th>title</th>\n",
              "      <td>False</td>\n",
              "    </tr>\n",
              "    <tr>\n",
              "      <th>ingredients</th>\n",
              "      <td>False</td>\n",
              "    </tr>\n",
              "    <tr>\n",
              "      <th>directions</th>\n",
              "      <td>False</td>\n",
              "    </tr>\n",
              "    <tr>\n",
              "      <th>NER</th>\n",
              "      <td>False</td>\n",
              "    </tr>\n",
              "  </tbody>\n",
              "</table>\n",
              "</div><br><label><b>dtype:</b> bool</label>"
            ],
            "text/plain": [
              "title          False\n",
              "ingredients    False\n",
              "directions     False\n",
              "NER            False\n",
              "dtype: bool"
            ]
          },
          "execution_count": 18,
          "metadata": {},
          "output_type": "execute_result"
        }
      ],
      "source": [
        "dataset.isnull().any()"
      ]
    },
    {
      "cell_type": "markdown",
      "metadata": {
        "id": "GIHPNyiIgxCx"
      },
      "source": [
        "**Remove the data with same recipe title**"
      ]
    },
    {
      "cell_type": "code",
      "execution_count": null,
      "metadata": {
        "colab": {
          "base_uri": "https://localhost:8080/"
        },
        "id": "aDYO0ZSfoUjq",
        "outputId": "85c28568-83ea-4c0e-8b09-44d7edd762ad"
      },
      "outputs": [
        {
          "name": "stdout",
          "output_type": "stream",
          "text": [
            "Found 9130 duplicate titles:\n",
            "                            title  \\\n",
            "113                   Cheese Ball   \n",
            "122                   Cheese Ball   \n",
            "131             Chicken Casserole   \n",
            "132                 Artichoke Dip   \n",
            "154                      Taco Dip   \n",
            "...                           ...   \n",
            "24990  Linda'S Broccoli Casserole   \n",
            "24992                Turkey Salad   \n",
            "24993                   Date Loaf   \n",
            "24995                 Oatmeal Pie   \n",
            "24996    Sweet And Sour Meatballs   \n",
            "\n",
            "                                             ingredients  \\\n",
            "113    [\"2 (8 oz.) cream cheese\", \"2/3 can chopped bl...   \n",
            "122    [\"2 (8 oz.) cream cheese\", \"4 c. shredded shar...   \n",
            "131    [\"1/2 c. raw rice\", \"1 can French onion soup\",...   \n",
            "132    [\"1 c. mayonnaise\", \"1 c. grated Parmesan or R...   \n",
            "154    [\"1 small can refried beans\", \"1 small carton ...   \n",
            "...                                                  ...   \n",
            "24990  [\"1 stick margarine\", \"1 c. chopped onion\", \"1...   \n",
            "24992  [\"4 lb. (4 to 5 c.) cooked, cubed turkey breas...   \n",
            "24993  [\"1 lb. dates\", \"1/2 lb. graham crackers\", \"1/...   \n",
            "24995  [\"3 eggs, beaten\", \"2/3 c. white sugar\", \"1 c....   \n",
            "24996  [\"1 1/2 lbs. hamburger\", \"2/3 c. cracker meal ...   \n",
            "\n",
            "                                              directions  \\\n",
            "113    [\"Chop all and mix with hands.\", \"Form into ba...   \n",
            "122    [\"Mix all ingredients except chipped beef and ...   \n",
            "131    [\"Mix all together; pour into a 7 x 12-inch ca...   \n",
            "132    [\"Mix all ingredients. Pour into a 9 x 13-inch...   \n",
            "154    [\"Layer the above ingredients in a 9 x 13 inch...   \n",
            "...                                                  ...   \n",
            "24990  [\"Shred potatoes in skillet.\", \"Amount depends...   \n",
            "24992  [\"Combine turkey, celery, green pepper and oni...   \n",
            "24993  [\"Grind the first 4 ingredients together.\", \"A...   \n",
            "24995  [\"Blend together and pour into unbaked pie she...   \n",
            "24996  [\"Combine and form into balls, the size of a w...   \n",
            "\n",
            "                                                     NER  \n",
            "113    [\"cream cheese\", \"black olives\", \"Armour dried...  \n",
            "122    [\"cream cheese\", \"sharp cheese\", \"mayonnaise\",...  \n",
            "131    [\"rice\", \"onion soup\", \"cream of chicken\", \"mu...  \n",
            "132        [\"mayonnaise\", \"Romano cheese\", \"artichokes\"]  \n",
            "154    [\"beans\", \"guacamole dip\", \"sour cream\", \"mayo...  \n",
            "...                                                  ...  \n",
            "24990  [\"margarine\", \"onion\", \"rice\", \"broccoli\", \"ce...  \n",
            "24992  [\"turkey breast\", \"celery\", \"onion\", \"mayonnai...  \n",
            "24993  [\"dates\", \"graham crackers\", \"marshmallows\", \"...  \n",
            "24995  [\"eggs\", \"white sugar\", \"brown sugar\", \"butter...  \n",
            "24996  [\"hamburger\", \"meal\", \"onions\", \"salt\", \"ginge...  \n",
            "\n",
            "[9130 rows x 4 columns]\n"
          ]
        }
      ],
      "source": [
        "duplicate_titles = dataset[dataset['title'].duplicated()]\n",
        "if not duplicate_titles.empty:\n",
        "    print(f\"Found {len(duplicate_titles)} duplicate titles:\")\n",
        "    print(duplicate_titles)\n",
        "else:\n",
        "    print(\"All titles are unique!\")"
      ]
    },
    {
      "cell_type": "code",
      "execution_count": null,
      "metadata": {
        "colab": {
          "base_uri": "https://localhost:8080/"
        },
        "id": "aW97ADTfpGNY",
        "outputId": "932f7253-998b-41b5-8c31-29476d2f25b6"
      },
      "outputs": [
        {
          "name": "stdout",
          "output_type": "stream",
          "text": [
            "Dataset now has 15870 rows.\n"
          ]
        }
      ],
      "source": [
        "dataset = dataset.drop_duplicates(subset='title', keep='first')\n",
        "\n",
        "print(f\"Dataset now has {len(dataset)} rows.\")\n"
      ]
    },
    {
      "cell_type": "code",
      "execution_count": null,
      "metadata": {
        "id": "bnEcvEZWqhLG"
      },
      "outputs": [],
      "source": [
        "dataset.to_csv('dataset.csv', index=False)"
      ]
    },
    {
      "cell_type": "markdown",
      "metadata": {
        "id": "ZGaPvnzRg3rP"
      },
      "source": [
        "**Partition the dataset on training, validation and test dataset**"
      ]
    },
    {
      "cell_type": "code",
      "execution_count": null,
      "metadata": {
        "colab": {
          "base_uri": "https://localhost:8080/"
        },
        "id": "PWR2-cxWqsbI",
        "outputId": "a7ec7c1f-de81-4a04-bc9b-de74a3a35df7"
      },
      "outputs": [
        {
          "name": "stdout",
          "output_type": "stream",
          "text": [
            "Training Set Size: 12696\n",
            "Validation Set Size: 1587\n",
            "Test Set Size: 1587\n"
          ]
        }
      ],
      "source": [
        "from sklearn.model_selection import train_test_split\n",
        "\n",
        "train_dataset, temp_data = train_test_split(dataset, test_size=0.2, random_state=42)\n",
        "val_dataset, test_dataset = train_test_split(temp_data, test_size=0.5, random_state=42)\n",
        "\n",
        "print(f\"Training Set Size: {len(train_dataset)}\")\n",
        "print(f\"Validation Set Size: {len(val_dataset)}\")\n",
        "print(f\"Test Set Size: {len(test_dataset)}\")\n"
      ]
    },
    {
      "cell_type": "markdown",
      "metadata": {
        "id": "5VVCYasog-JC"
      },
      "source": []
    },
    {
      "cell_type": "markdown",
      "metadata": {
        "id": "WGLhv8QFhKFI"
      },
      "source": [
        "**Text Tokenization and Preprocessing with BART Tokenizer**"
      ]
    },
    {
      "cell_type": "code",
      "execution_count": null,
      "metadata": {
        "colab": {
          "base_uri": "https://localhost:8080/",
          "height": 272,
          "referenced_widgets": [
            "295f78340806427c9c89b3d6620a522c",
            "4694ff9ec152409c8f4c588b7b8a00d7",
            "a2e1e30b1a7e408bb63f60464182a005",
            "7ab8db000cdd4e28b3781700824c9301",
            "9d7eb1bcb5ad4b72901eb2e850feb26d",
            "42862d951a4e473cbf1ce0112889e0e9",
            "8d57cd39d3094529af79a9ab51e9da0c",
            "28910b3f5a4242a4b4fcc2aa47222937",
            "9c64a3bd3ee6418baa93338fd685f79a",
            "066612afb63f486fad6b7bed890c9726",
            "be20512ddf984212af5d868efd1b071a",
            "f6b890d4e8f447819534d8dadb6b8d94",
            "c001ad29604b49cc87365e6beda3ff05",
            "331e0ffb5be14639946fecb319d58f28",
            "739098255a71487aa5f914ed8ece9546",
            "511ddb3a9b1646d5b3a961dc3ac142dd",
            "b3999fe666a249b6828db51011234d9e",
            "220c9aacbe664f6c871b47f7bb18b58d",
            "da9c65d9496140d1b1f0446633ba4bf3",
            "b88c8171a0954540b10f45b5e1ceb12c",
            "44f3f6f0f8754b0f8cc1252aba7c1b09",
            "299efc8e6d9d4f0f83f2325cde7e1500",
            "f671820324224ecb9845ff7b04706726",
            "606ebda5613e483d9a68233b524be11e",
            "fa8f01f3bb9b4856949618d689f74123",
            "45db872bad1342adbc0db0abb9fceef3",
            "ab5ce5a023564382a438f89026a9efc1",
            "02729218b25f4149b5e6f4e7c76a49d9",
            "24b0928087254f9b90f7245460741108",
            "6cf7cf069e084ca5a9bc1f053722202d",
            "1ee9fdef55e54cd18c4d1d6faf8eca6c",
            "b3bec8e0e7434c4184118bec9f9f85ee",
            "f81aeed8b8684dc3868f0b415aab3f25",
            "b33d62cf038a4f56909a4496b23b1b4b",
            "7883a981c13d4c1581b5001f63d5ffcd",
            "b88bc5698ad84a9e96bea3c9d0de5140",
            "ea26e4358c6944a3a88775fa1d8c1484",
            "134e8ff94d9b4336869b83393d6b2088",
            "24f1818e3f9d4f45a9b0cbe33a2ceb47",
            "10dd798863364559b637ed3cacf92626",
            "87857ffe125743c38f6560215f3a1f3f",
            "50b0f6e710ef4d8bbd74e6113687ef33",
            "5cf05ea870d744ba8c23b6a4719deb3b",
            "da2463ddfd78409c89a5d3658c5b3d2c"
          ]
        },
        "id": "G5xxGT2qv5R_",
        "outputId": "5d7529e9-8110-4330-9063-8935ad25022a"
      },
      "outputs": [
        {
          "name": "stderr",
          "output_type": "stream",
          "text": [
            "/usr/local/lib/python3.10/dist-packages/huggingface_hub/utils/_auth.py:94: UserWarning: \n",
            "The secret `HF_TOKEN` does not exist in your Colab secrets.\n",
            "To authenticate with the Hugging Face Hub, create a token in your settings tab (https://huggingface.co/settings/tokens), set it as secret in your Google Colab and restart your session.\n",
            "You will be able to reuse this secret in all of your notebooks.\n",
            "Please note that authentication is recommended but still optional to access public models or datasets.\n",
            "  warnings.warn(\n"
          ]
        },
        {
          "data": {
            "application/vnd.jupyter.widget-view+json": {
              "model_id": "295f78340806427c9c89b3d6620a522c",
              "version_major": 2,
              "version_minor": 0
            },
            "text/plain": [
              "vocab.json:   0%|          | 0.00/899k [00:00<?, ?B/s]"
            ]
          },
          "metadata": {},
          "output_type": "display_data"
        },
        {
          "data": {
            "application/vnd.jupyter.widget-view+json": {
              "model_id": "f6b890d4e8f447819534d8dadb6b8d94",
              "version_major": 2,
              "version_minor": 0
            },
            "text/plain": [
              "merges.txt:   0%|          | 0.00/456k [00:00<?, ?B/s]"
            ]
          },
          "metadata": {},
          "output_type": "display_data"
        },
        {
          "data": {
            "application/vnd.jupyter.widget-view+json": {
              "model_id": "f671820324224ecb9845ff7b04706726",
              "version_major": 2,
              "version_minor": 0
            },
            "text/plain": [
              "tokenizer.json:   0%|          | 0.00/1.36M [00:00<?, ?B/s]"
            ]
          },
          "metadata": {},
          "output_type": "display_data"
        },
        {
          "data": {
            "application/vnd.jupyter.widget-view+json": {
              "model_id": "b33d62cf038a4f56909a4496b23b1b4b",
              "version_major": 2,
              "version_minor": 0
            },
            "text/plain": [
              "config.json:   0%|          | 0.00/1.72k [00:00<?, ?B/s]"
            ]
          },
          "metadata": {},
          "output_type": "display_data"
        }
      ],
      "source": [
        "from transformers import BartTokenizer\n",
        "tokenizer = BartTokenizer.from_pretrained('facebook/bart-base')"
      ]
    },
    {
      "cell_type": "code",
      "execution_count": null,
      "metadata": {
        "id": "L8cJBrYUwSiu"
      },
      "outputs": [],
      "source": [
        "def tokenizer_function(data):\n",
        "    inputs = tokenizer(data['ingredients'], padding='max_length', truncation=True, return_tensors=\"pt\", max_length=512)\n",
        "    targets = tokenizer(data['title'], padding='max_length', truncation=True, return_tensors=\"pt\", max_length=512)\n",
        "\n",
        "    return {\n",
        "        'input_ids': inputs['input_ids'].squeeze(),\n",
        "        'attention_mask': inputs['attention_mask'].squeeze(),\n",
        "        'labels': targets['input_ids'].squeeze()\n",
        "    }"
      ]
    },
    {
      "cell_type": "code",
      "execution_count": null,
      "metadata": {
        "colab": {
          "base_uri": "https://localhost:8080/"
        },
        "id": "-Uj6cJMpxNJc",
        "outputId": "0c7cc43c-1879-41c9-b922-99ad7c8b5b09"
      },
      "outputs": [
        {
          "name": "stdout",
          "output_type": "stream",
          "text": [
            "Sample tokenized train data:\n",
            "1041    {'input_ids': [tensor(0), tensor(49329), tenso...\n",
            "2602    {'input_ids': [tensor(0), tensor(49329), tenso...\n",
            "7814    {'input_ids': [tensor(0), tensor(49329), tenso...\n",
            "5886    {'input_ids': [tensor(0), tensor(49329), tenso...\n",
            "2808    {'input_ids': [tensor(0), tensor(49329), tenso...\n",
            "dtype: object\n",
            "Sample tokenized validation data:\n",
            "18904    {'input_ids': [tensor(0), tensor(49329), tenso...\n",
            "8245     {'input_ids': [tensor(0), tensor(49329), tenso...\n",
            "13330    {'input_ids': [tensor(0), tensor(49329), tenso...\n",
            "2952     {'input_ids': [tensor(0), tensor(49329), tenso...\n",
            "19897    {'input_ids': [tensor(0), tensor(49329), tenso...\n",
            "dtype: object\n",
            "Sample tokenized test data:\n",
            "16209    {'input_ids': [tensor(0), tensor(49329), tenso...\n",
            "21738    {'input_ids': [tensor(0), tensor(49329), tenso...\n",
            "22504    {'input_ids': [tensor(0), tensor(49329), tenso...\n",
            "20519    {'input_ids': [tensor(0), tensor(49329), tenso...\n",
            "15819    {'input_ids': [tensor(0), tensor(49329), tenso...\n",
            "dtype: object\n"
          ]
        }
      ],
      "source": [
        "train_tokenized = train_dataset.apply(tokenizer_function, axis=1)\n",
        "val_tokenized = val_dataset.apply(tokenizer_function, axis=1)\n",
        "test_tokenized = test_dataset.apply(tokenizer_function, axis=1)\n",
        "\n",
        "print(\"Sample tokenized train data:\")\n",
        "print(train_tokenized.head())\n",
        "\n",
        "print(\"Sample tokenized validation data:\")\n",
        "print(val_tokenized.head())\n",
        "\n",
        "print(\"Sample tokenized test data:\")\n",
        "print(test_tokenized.head())\n"
      ]
    },
    {
      "cell_type": "markdown",
      "metadata": {
        "id": "te-RyWhghOr8"
      },
      "source": [
        "**Checking if the original recipe ingredients and title matches the tokenized text**"
      ]
    },
    {
      "cell_type": "code",
      "execution_count": null,
      "metadata": {
        "colab": {
          "base_uri": "https://localhost:8080/"
        },
        "id": "QPorAogcxjJp",
        "outputId": "e9777654-13f8-490c-b436-fe67fc83eaed"
      },
      "outputs": [
        {
          "name": "stdout",
          "output_type": "stream",
          "text": [
            "Original Title: Goose Or Duck And Sweet Dressing\n",
            "Decoded Title: Goose Or Duck And Sweet Dressing\n",
            "Original Ingredients: [\"3 lb. dressed duck\", \"1 1/2 c. apples, diced\", \"1/3 c. warm water\", \"salt to taste\", \"1 c. prunes, soaked but not cooked\", \"3 Tbsp. butter or fat\", \"3/4 c. tart pie cherries\", \"3 c. bread cubes\", \"juice of 1 orange\"]\n",
            "Decoded Ingredients: [\"3 lb. dressed duck\", \"1 1/2 c. apples, diced\", \"1/3 c. warm water\", \"salt to taste\", \"1 c. prunes, soaked but not cooked\", \"3 Tbsp. butter or fat\", \"3/4 c. tart pie cherries\", \"3 c. bread cubes\", \"juice of 1 orange\"]\n",
            "==================================================\n",
            "Title Match: True\n",
            "Ingredients Match: True\n"
          ]
        }
      ],
      "source": [
        "original_sample = train_dataset.iloc[1]\n",
        "\n",
        "original_ingredients = original_sample['ingredients']\n",
        "original_title = original_sample['title']\n",
        "\n",
        "tokenized_sample = tokenizer_function(original_sample)\n",
        "\n",
        "decoded_ingredients = tokenizer.decode(tokenized_sample['input_ids'], skip_special_tokens=True)\n",
        "decoded_title = tokenizer.decode(tokenized_sample['labels'], skip_special_tokens=True)\n",
        "\n",
        "print(f\"Original Title: {original_title}\")\n",
        "print(f\"Decoded Title: {decoded_title}\")\n",
        "print(f\"Original Ingredients: {original_ingredients}\")\n",
        "print(f\"Decoded Ingredients: {decoded_ingredients}\")\n",
        "print(\"=\"*50)\n",
        "\n",
        "title_match = original_title == decoded_title\n",
        "ingredients_match = original_ingredients == decoded_ingredients\n",
        "\n",
        "print(f\"Title Match: {title_match}\")\n",
        "print(f\"Ingredients Match: {ingredients_match}\")\n"
      ]
    },
    {
      "cell_type": "code",
      "execution_count": null,
      "metadata": {
        "id": "DwRvQuxnyaed"
      },
      "outputs": [],
      "source": [
        "import torch\n",
        "from torch.utils.data import Dataset\n",
        "\n",
        "class RecipeDataset(Dataset):\n",
        "    def __init__(self, tokenized_data):\n",
        "        self.tokenized_data = tokenized_data\n",
        "\n",
        "    def __len__(self):\n",
        "        return len(self.tokenized_data)\n",
        "\n",
        "    def __getitem__(self, idx):\n",
        "        item = self.tokenized_data.iloc[idx]\n",
        "        return {\n",
        "            'input_ids': torch.tensor(item['input_ids'], dtype=torch.long),\n",
        "            'attention_mask': torch.tensor(item['attention_mask'], dtype=torch.long),\n",
        "            'labels': torch.tensor(item['labels'], dtype=torch.long)\n",
        "        }\n",
        "\n",
        "# Create datasets for training, validation, and test\n",
        "train_dataset_torch = RecipeDataset(train_tokenized)\n",
        "val_dataset_torch = RecipeDataset(val_tokenized)\n",
        "test_dataset_torch = RecipeDataset(test_tokenized)\n"
      ]
    },
    {
      "cell_type": "markdown",
      "metadata": {
        "id": "GMeHgIxFhXVm"
      },
      "source": [
        "**Create dataloaders to train the model**"
      ]
    },
    {
      "cell_type": "code",
      "execution_count": null,
      "metadata": {
        "id": "LfNvbfpBE3Db"
      },
      "outputs": [],
      "source": [
        "from torch.utils.data import DataLoader\n",
        "\n",
        "# Initialize DataLoader for training, validation, and testing\n",
        "train_dataloader = DataLoader(train_dataset_torch, batch_size=16, shuffle=True)\n",
        "val_dataloader = DataLoader(val_dataset_torch, batch_size=16)\n",
        "test_dataloader = DataLoader(test_dataset_torch, batch_size=16)\n"
      ]
    },
    {
      "cell_type": "markdown",
      "metadata": {
        "id": "QEN6A8ydhnHe"
      },
      "source": [
        "### Model Training"
      ]
    },
    {
      "cell_type": "markdown",
      "metadata": {
        "id": "2A47A81-hqFA"
      },
      "source": [
        "We load the pre-trained BART model for conditional generation using the BartForConditionalGeneration class. The model is then moved to the appropriate device (GPU or CPU). We use the AdamW optimizer with a learning rate of 5e-5 to fine-tune the model during training.\n",
        "\n"
      ]
    },
    {
      "cell_type": "code",
      "execution_count": null,
      "metadata": {
        "colab": {
          "base_uri": "https://localhost:8080/",
          "height": 105,
          "referenced_widgets": [
            "df87675acf8243fd8628152834b88a4b",
            "209fbd24a2834c1496742803516cb103",
            "05f18a5f632f4fbd9f95c75ffe0d57a2",
            "d0313535267a4610ad481bb54100e2d6",
            "8379402687344bca907dd8928c73e2e0",
            "bb603aeda8b1453dbf5015de6092e51d",
            "a0a2fc82ad844fe98a8fc2ab0af369f9",
            "146ef28818e54d43be8dc92aa986af07",
            "229cda0cc8be401ea0d70839724e8bb8",
            "35ddf275b8b549ca943965f00f92b9db",
            "b3da2ac2b1594a15b2b4024a02ddc620"
          ]
        },
        "id": "0cQjW7GxE46P",
        "outputId": "b249c31a-3afa-4e7d-ae49-1bd9ba4a98de"
      },
      "outputs": [
        {
          "data": {
            "application/vnd.jupyter.widget-view+json": {
              "model_id": "df87675acf8243fd8628152834b88a4b",
              "version_major": 2,
              "version_minor": 0
            },
            "text/plain": [
              "model.safetensors:  60%|######    | 336M/558M [00:00<?, ?B/s]"
            ]
          },
          "metadata": {},
          "output_type": "display_data"
        },
        {
          "name": "stderr",
          "output_type": "stream",
          "text": [
            "/usr/local/lib/python3.10/dist-packages/transformers/optimization.py:591: FutureWarning: This implementation of AdamW is deprecated and will be removed in a future version. Use the PyTorch implementation torch.optim.AdamW instead, or set `no_deprecation_warning=True` to disable this warning\n",
            "  warnings.warn(\n"
          ]
        }
      ],
      "source": [
        "from transformers import BartForConditionalGeneration, AdamW\n",
        "\n",
        "device = torch.device(\"cuda\" if torch.cuda.is_available() else \"cpu\")\n",
        "model = BartForConditionalGeneration.from_pretrained('facebook/bart-base')\n",
        "model = model.to(device)\n",
        "\n",
        "optimizer = AdamW(model.parameters(), lr=5e-5)\n"
      ]
    },
    {
      "cell_type": "markdown",
      "metadata": {
        "id": "lFd-EOuChuMT"
      },
      "source": [
        "Train the model on 3 epochs"
      ]
    },
    {
      "cell_type": "code",
      "execution_count": null,
      "metadata": {
        "colab": {
          "base_uri": "https://localhost:8080/"
        },
        "id": "s9R5s9l3FDEw",
        "outputId": "32605e54-fc85-42c4-c1cc-89a2dffcddda"
      },
      "outputs": [
        {
          "name": "stdout",
          "output_type": "stream",
          "text": [
            "Epoch 1/3\n"
          ]
        },
        {
          "name": "stderr",
          "output_type": "stream",
          "text": [
            "\rTraining:   0%|          | 0/794 [00:00<?, ?it/s]<ipython-input-18-7dc773f40fd3>:14: UserWarning: To copy construct from a tensor, it is recommended to use sourceTensor.clone().detach() or sourceTensor.clone().detach().requires_grad_(True), rather than torch.tensor(sourceTensor).\n",
            "  'input_ids': torch.tensor(item['input_ids'], dtype=torch.long),\n",
            "<ipython-input-18-7dc773f40fd3>:15: UserWarning: To copy construct from a tensor, it is recommended to use sourceTensor.clone().detach() or sourceTensor.clone().detach().requires_grad_(True), rather than torch.tensor(sourceTensor).\n",
            "  'attention_mask': torch.tensor(item['attention_mask'], dtype=torch.long),\n",
            "<ipython-input-18-7dc773f40fd3>:16: UserWarning: To copy construct from a tensor, it is recommended to use sourceTensor.clone().detach() or sourceTensor.clone().detach().requires_grad_(True), rather than torch.tensor(sourceTensor).\n",
            "  'labels': torch.tensor(item['labels'], dtype=torch.long)\n",
            "Training: 100%|██████████| 794/794 [32:51<00:00,  2.48s/it]\n"
          ]
        },
        {
          "name": "stdout",
          "output_type": "stream",
          "text": [
            "Training Loss: 0.4699180361296353\n"
          ]
        },
        {
          "name": "stderr",
          "output_type": "stream",
          "text": [
            "Validating: 100%|██████████| 100/100 [01:17<00:00,  1.29it/s]\n"
          ]
        },
        {
          "name": "stdout",
          "output_type": "stream",
          "text": [
            "Validation Loss: 0.03586749782785773\n",
            "==================================================\n",
            "Epoch 2/3\n"
          ]
        },
        {
          "name": "stderr",
          "output_type": "stream",
          "text": [
            "Training: 100%|██████████| 794/794 [33:05<00:00,  2.50s/it]\n"
          ]
        },
        {
          "name": "stdout",
          "output_type": "stream",
          "text": [
            "Training Loss: 0.03861607745834052\n"
          ]
        },
        {
          "name": "stderr",
          "output_type": "stream",
          "text": [
            "Validating: 100%|██████████| 100/100 [01:17<00:00,  1.29it/s]\n"
          ]
        },
        {
          "name": "stdout",
          "output_type": "stream",
          "text": [
            "Validation Loss: 0.03222719900310039\n",
            "==================================================\n",
            "Epoch 3/3\n"
          ]
        },
        {
          "name": "stderr",
          "output_type": "stream",
          "text": [
            "Training: 100%|██████████| 794/794 [33:05<00:00,  2.50s/it]\n"
          ]
        },
        {
          "name": "stdout",
          "output_type": "stream",
          "text": [
            "Training Loss: 0.03367285645081279\n"
          ]
        },
        {
          "name": "stderr",
          "output_type": "stream",
          "text": [
            "Validating: 100%|██████████| 100/100 [01:17<00:00,  1.29it/s]"
          ]
        },
        {
          "name": "stdout",
          "output_type": "stream",
          "text": [
            "Validation Loss: 0.0309591961838305\n",
            "==================================================\n"
          ]
        },
        {
          "name": "stderr",
          "output_type": "stream",
          "text": [
            "\n"
          ]
        }
      ],
      "source": [
        "from tqdm import tqdm\n",
        "\n",
        "# Function to train and validate in a single loop\n",
        "def train_and_validate(model, train_dataloader, val_dataloader, optimizer, device, num_epochs):\n",
        "    for epoch in range(num_epochs):\n",
        "        print(f\"Epoch {epoch + 1}/{num_epochs}\")\n",
        "\n",
        "        # Training phase\n",
        "        model.train()\n",
        "        total_train_loss = 0\n",
        "        for batch in tqdm(train_dataloader, desc=\"Training\"):\n",
        "            input_ids = batch['input_ids'].to(device)\n",
        "            attention_mask = batch['attention_mask'].to(device)\n",
        "            labels = batch['labels'].to(device)\n",
        "\n",
        "            # Forward pass\n",
        "            outputs = model(input_ids=input_ids, attention_mask=attention_mask, labels=labels)\n",
        "            loss = outputs.loss\n",
        "            total_train_loss += loss.item()\n",
        "\n",
        "            # Backward pass\n",
        "            loss.backward()\n",
        "            optimizer.step()\n",
        "            optimizer.zero_grad()\n",
        "\n",
        "        avg_train_loss = total_train_loss / len(train_dataloader)\n",
        "        print(f\"Training Loss: {avg_train_loss}\")\n",
        "\n",
        "        # Validation phase\n",
        "        model.eval()\n",
        "        total_val_loss = 0\n",
        "        with torch.no_grad():\n",
        "            for batch in tqdm(val_dataloader, desc=\"Validating\"):\n",
        "                input_ids = batch['input_ids'].to(device)\n",
        "                attention_mask = batch['attention_mask'].to(device)\n",
        "                labels = batch['labels'].to(device)\n",
        "\n",
        "                outputs = model(input_ids=input_ids, attention_mask=attention_mask, labels=labels)\n",
        "                loss = outputs.loss\n",
        "                total_val_loss += loss.item()\n",
        "\n",
        "        avg_val_loss = total_val_loss / len(val_dataloader)\n",
        "        print(f\"Validation Loss: {avg_val_loss}\")\n",
        "        print(\"=\" * 50)\n",
        "\n",
        "num_epochs = 3\n",
        "train_and_validate(model, train_dataloader, val_dataloader, optimizer, device, num_epochs)"
      ]
    },
    {
      "cell_type": "code",
      "execution_count": null,
      "metadata": {
        "colab": {
          "base_uri": "https://localhost:8080/"
        },
        "id": "GZzb2n-RCjgx",
        "outputId": "fca78a27-ae34-449a-84dc-16edc7b23c80"
      },
      "outputs": [
        {
          "name": "stdout",
          "output_type": "stream",
          "text": [
            "Mounted at /content/drive\n"
          ]
        }
      ],
      "source": [
        "from google.colab import drive\n",
        "drive.mount('/content/drive')\n",
        "\n",
        "file_path = '/content/drive/My Drive/nlp/final_project_nlp_model'\n",
        "model.save_pretrained(file_path)\n",
        "tokenizer.save_pretrained(file_path)"
      ]
    },
    {
      "cell_type": "markdown",
      "metadata": {
        "id": "shBpcfwsh83H"
      },
      "source": [
        "### Model Evaluation"
      ]
    },
    {
      "cell_type": "markdown",
      "metadata": {
        "id": "9URvBnhth3lV"
      },
      "source": [
        "**Load the model from google drive to evaluate it.**"
      ]
    },
    {
      "cell_type": "code",
      "execution_count": null,
      "metadata": {
        "id": "wAyKFR3eC4sr"
      },
      "outputs": [],
      "source": [
        "from transformers import BartForConditionalGeneration, BartTokenizer\n",
        "import torch\n",
        "\n",
        "file_path = '/content/drive/My Drive/nlp/final_project_nlp_model'\n",
        "\n",
        "model = BartForConditionalGeneration.from_pretrained(file_path)\n",
        "tokenizer = BartTokenizer.from_pretrained(file_path)\n",
        "\n",
        "device = torch.device(\"cuda\" if torch.cuda.is_available() else \"cpu\")\n",
        "model = model.to(device)\n"
      ]
    },
    {
      "cell_type": "markdown",
      "metadata": {
        "id": "0TCLIQyqipc_"
      },
      "source": [
        "Check the predicted recipe title based on ingredients from the test dataset"
      ]
    },
    {
      "cell_type": "code",
      "execution_count": null,
      "metadata": {
        "colab": {
          "base_uri": "https://localhost:8080/"
        },
        "id": "580rAqjjil6O",
        "outputId": "69690118-85be-4556-adea-d2ac49a67c0d"
      },
      "outputs": [
        {
          "name": "stderr",
          "output_type": "stream",
          "text": [
            "<ipython-input-12-7dc773f40fd3>:14: UserWarning: To copy construct from a tensor, it is recommended to use sourceTensor.clone().detach() or sourceTensor.clone().detach().requires_grad_(True), rather than torch.tensor(sourceTensor).\n",
            "  'input_ids': torch.tensor(item['input_ids'], dtype=torch.long),\n",
            "<ipython-input-12-7dc773f40fd3>:15: UserWarning: To copy construct from a tensor, it is recommended to use sourceTensor.clone().detach() or sourceTensor.clone().detach().requires_grad_(True), rather than torch.tensor(sourceTensor).\n",
            "  'attention_mask': torch.tensor(item['attention_mask'], dtype=torch.long),\n",
            "<ipython-input-12-7dc773f40fd3>:16: UserWarning: To copy construct from a tensor, it is recommended to use sourceTensor.clone().detach() or sourceTensor.clone().detach().requires_grad_(True), rather than torch.tensor(sourceTensor).\n",
            "  'labels': torch.tensor(item['labels'], dtype=torch.long)\n"
          ]
        },
        {
          "name": "stdout",
          "output_type": "stream",
          "text": [
            "Sample 1 - Input: [\"1 c. finely ground walnuts\", \"1/2 c. finely ground sunflower seeds\", \"1/2 c. finely ground cashews\", \"1/2 c. raw wheat germ\", \"1 large onion\", \"1 c. cooked brown rice\"]\n",
            "Sample 1 - Generated Recipe: Brown Rice And Rice\n",
            "--------------------------------------------------------------------------------\n",
            "Sample 2 - Input: [\"1 (9-inch) pie crust, baked and cooled\", \"1 c. sugar\", \"3 Tbsp. cornstarch\", \"1/2 c. butter or oleo\", \"1 Tbsp. grated lemon rind\", \"1/4 c. lemon juice\", \"3 unbeaten egg yolks\", \"1 c. milk\", \"1 c. sour cream\", \"whipped dessert topping\", \"chopped walnuts\"]\n",
            "Sample 2 - Generated Recipe: Lemon Pie\n",
            "--------------------------------------------------------------------------------\n",
            "Sample 3 - Input: [\"1/4 c. lemon juice\", \"2 tsp. cornstarch\", \"1/4 tsp. salt\", \"1/2 lb. each: scallops and large raw shrimp, peeled and deveined\", \"1/4 c. margarine\", \"8 oz. fresh mushrooms, sliced\", \"1 c. thinly sliced carrots\", \"3 cloves garlic, finely chopped\", \"1/2 tsp. thyme leaves\", \"4 oz. fresh pea pods\", \"1/4 c. sliced green onions\", \"2 Tbsp. dry sherry (optional)\"]\n",
            "Sample 3 - Generated Recipe: Shrimp And Vegetable Soup\n",
            "--------------------------------------------------------------------------------\n",
            "Sample 4 - Input: [\"8 large garlic cloves, pressed\", \"2 Tbsp. fresh chopped rosemary or 2 tsp. dried\", \"1 tsp. salt\", \"1/2 tsp. ground pepper\", \"1 (5 lb.) leg of lamb, boned, butterflied and trimmed of excess fat\"]\n",
            "Sample 4 - Generated Recipe: Beef And Lamb Casserole\n",
            "--------------------------------------------------------------------------------\n",
            "Sample 5 - Input: [\"2 c. white sugar\", \"1 c. brown sugar\", \"1 c. evaporated milk\", \"1/2 c. oleo\", \"1 c. peanut butter\", \"1 tsp. vanilla\"]\n",
            "Sample 5 - Generated Recipe: Peanut Butter Fudge\n",
            "--------------------------------------------------------------------------------\n",
            "Sample 6 - Input: [\"2 c. milk\", \"4 eggs\", \"1/3 c. oleo\", \"1/2 c. flour\", \"3/4 c. sugar\", \"1 c. coconut\", \"1 1/2 tsp. vanilla\"]\n",
            "Sample 6 - Generated Recipe: Coconut Pudding\n",
            "--------------------------------------------------------------------------------\n",
            "Sample 7 - Input: [\"2 c. low calorie cranberry juice\", \"2 c. natural apple juice\", \"1 1/2 c. orange juice\", \"2 tsp. coriander\", \"2 c. club soda\", \"orange slices and fresh cranberries (garnish)\"]\n",
            "Sample 7 - Generated Recipe: Cranberry Punch\n",
            "--------------------------------------------------------------------------------\n",
            "Sample 8 - Input: [\"3 2/3 c. (1 lb. box) powdered sugar, sifted\", \"1/2 c. cocoa\", \"1/2 c. butter or margarine, cut into pieces\", \"1/4 c. milk\", \"1 Tbsp. vanilla\", \"1/2 c. coarsely chopped nuts\"]\n",
            "Sample 8 - Generated Recipe: Chocolate Brownies\n",
            "--------------------------------------------------------------------------------\n",
            "Sample 9 - Input: [\"1 c. cracker crumbs\", \"1 1/2 c. milk\", \"3 eggs, slightly beaten\", \"2 (6 1/2 or 7 oz.) cans tuna\", \"1/2 c. ripe olives, chopped\", \"dash of black pepper\", \"1 (12 oz.) can whole kernel corn, drained\"]\n",
            "Sample 9 - Generated Recipe: Tuna Casserole\n",
            "--------------------------------------------------------------------------------\n",
            "Sample 10 - Input: [\"4 (8 oz.) pkg. cream cheese, at room temperature\", \"1 1/2 tsp. vanilla\", \"5 eggs, at room temperature\", \"1 1/2 c. sugar\", \"1/2 tsp. salt\"]\n",
            "Sample 10 - Generated Recipe: Cream Cheese Ball\n",
            "--------------------------------------------------------------------------------\n"
          ]
        }
      ],
      "source": [
        "sample_count = 0\n",
        "\n",
        "for batch in test_dataloader:\n",
        "    input_ids = batch['input_ids'].to(device)\n",
        "    attention_mask = batch['attention_mask'].to(device)\n",
        "\n",
        "\n",
        "    generated_ids = model.generate(\n",
        "        input_ids=input_ids,\n",
        "        attention_mask=attention_mask,\n",
        "        max_length=50,\n",
        "        num_beams=5,\n",
        "        early_stopping=True\n",
        "    )\n",
        "\n",
        "    input_texts = [tokenizer.decode(ids, skip_special_tokens=True) for ids in input_ids]\n",
        "    generated_texts = [tokenizer.decode(ids, skip_special_tokens=True) for ids in generated_ids]\n",
        "\n",
        "    for input_text, generated_text in zip(input_texts, generated_texts):\n",
        "        print(f\"Sample {sample_count + 1} - Input: {input_text}\")\n",
        "        print(f\"Sample {sample_count + 1} - Generated Recipe: {generated_text}\")\n",
        "        print(\"-\" * 80)\n",
        "\n",
        "        sample_count += 1\n",
        "\n",
        "        if sample_count == 10:\n",
        "            break\n",
        "    if sample_count == 10:\n",
        "        break\n"
      ]
    },
    {
      "cell_type": "markdown",
      "metadata": {
        "id": "MO2sIR5giwOd"
      },
      "source": [
        "Calculating f1 score and exact match"
      ]
    },
    {
      "cell_type": "code",
      "execution_count": null,
      "metadata": {
        "id": "sdwPfWlvgTEF"
      },
      "outputs": [],
      "source": [
        "from sklearn.metrics import f1_score\n",
        "from tqdm import tqdm\n",
        "\n",
        "def evaluate_model(model, test_dataloader, tokenizer, device):\n",
        "    model.eval()  # Set model to evaluation mode\n",
        "    all_predictions = []\n",
        "    all_references = []\n",
        "\n",
        "    with torch.no_grad():  # Disable gradient computation\n",
        "        for batch in tqdm(test_dataloader, desc=\"Evaluating\"):\n",
        "            # Move data to the selected device\n",
        "            input_ids = batch['input_ids'].to(device)\n",
        "            attention_mask = batch['attention_mask'].to(device)\n",
        "            labels = batch['labels'].to(device)\n",
        "\n",
        "            # Generate predictions\n",
        "            generated_ids = model.generate(\n",
        "                input_ids=input_ids,\n",
        "                attention_mask=attention_mask,\n",
        "                max_length=512,\n",
        "                num_beams=5,\n",
        "                early_stopping=True\n",
        "            )\n",
        "\n",
        "            # Decode predictions and references\n",
        "            predictions = [tokenizer.decode(ids, skip_special_tokens=True) for ids in generated_ids]\n",
        "            references = [tokenizer.decode(ids, skip_special_tokens=True) for ids in labels]\n",
        "\n",
        "            # Store predictions and references\n",
        "            all_predictions.extend(predictions)\n",
        "            all_references.extend(references)\n",
        "\n",
        "    return all_predictions, all_references\n"
      ]
    },
    {
      "cell_type": "code",
      "execution_count": null,
      "metadata": {
        "colab": {
          "base_uri": "https://localhost:8080/"
        },
        "id": "L5KcoQS1Fvl_",
        "outputId": "e7561f96-aa59-46ad-aec3-1393e2beb06c"
      },
      "outputs": [
        {
          "name": "stderr",
          "output_type": "stream",
          "text": [
            "\rEvaluating:   0%|          | 0/100 [00:00<?, ?it/s]<ipython-input-12-7dc773f40fd3>:14: UserWarning: To copy construct from a tensor, it is recommended to use sourceTensor.clone().detach() or sourceTensor.clone().detach().requires_grad_(True), rather than torch.tensor(sourceTensor).\n",
            "  'input_ids': torch.tensor(item['input_ids'], dtype=torch.long),\n",
            "<ipython-input-12-7dc773f40fd3>:15: UserWarning: To copy construct from a tensor, it is recommended to use sourceTensor.clone().detach() or sourceTensor.clone().detach().requires_grad_(True), rather than torch.tensor(sourceTensor).\n",
            "  'attention_mask': torch.tensor(item['attention_mask'], dtype=torch.long),\n",
            "<ipython-input-12-7dc773f40fd3>:16: UserWarning: To copy construct from a tensor, it is recommended to use sourceTensor.clone().detach() or sourceTensor.clone().detach().requires_grad_(True), rather than torch.tensor(sourceTensor).\n",
            "  'labels': torch.tensor(item['labels'], dtype=torch.long)\n",
            "Evaluating: 100%|██████████| 100/100 [01:30<00:00,  1.10it/s]"
          ]
        },
        {
          "name": "stdout",
          "output_type": "stream",
          "text": [
            "Exact Match Score: 64.20%\n",
            "F1 Score: 66.33\n"
          ]
        },
        {
          "name": "stderr",
          "output_type": "stream",
          "text": [
            "\n"
          ]
        }
      ],
      "source": [
        "all_predictions, all_references = evaluate_model(model, test_dataloader, tokenizer, device)\n",
        "\n",
        "# Compute metrics\n",
        "exact_match_count = sum([1 if pred == ref else 0 for pred, ref in zip(all_predictions, all_references)])\n",
        "exact_match_score = exact_match_count / len(all_predictions) * 100\n",
        "print(f\"Exact Match Score: {exact_match_score:.2f}%\")\n",
        "\n",
        "# Tokenized F1 Score\n",
        "tokenized_predictions = [pred.split() for pred in all_predictions]\n",
        "tokenized_references = [ref.split() for ref in all_references]\n",
        "flattened_predictions = [token for sublist in tokenized_predictions for token in sublist]\n",
        "flattened_references = [token for sublist in tokenized_references for token in sublist]\n",
        "f1 = f1_score(flattened_references, flattened_predictions, average='macro')\n",
        "print(f\"F1 Score: {f1:.2f}\")\n"
      ]
    },
    {
      "cell_type": "markdown",
      "metadata": {
        "id": "Y4-Um5eijDmB"
      },
      "source": [
        "The model is performing reasonably well with an Exact Match Score of 64.20%, indicating that more than half of the predictions are exactly correct. The F1 Score of 66.33 suggests that the model has a decent balance between precision and recall, but there is still room for improvement."
      ]
    },
    {
      "cell_type": "markdown",
      "metadata": {
        "id": "3vfSGOlYxsqQ"
      },
      "source": [
        "### Telegram Bot"
      ]
    },
    {
      "cell_type": "code",
      "execution_count": null,
      "metadata": {
        "colab": {
          "base_uri": "https://localhost:8080/"
        },
        "id": "6sE8_CwYxvy4",
        "outputId": "b4e97e16-8aaa-4232-f4dd-f4e43a7c3ff8"
      },
      "outputs": [
        {
          "name": "stdout",
          "output_type": "stream",
          "text": [
            "Requirement already satisfied: python-telegram-bot in /usr/local/lib/python3.10/dist-packages (21.8)\n",
            "Requirement already satisfied: transformers in /usr/local/lib/python3.10/dist-packages (4.46.3)\n",
            "Requirement already satisfied: torch in /usr/local/lib/python3.10/dist-packages (2.5.1+cu121)\n",
            "Requirement already satisfied: httpx~=0.27 in /usr/local/lib/python3.10/dist-packages (from python-telegram-bot) (0.28.0)\n",
            "Requirement already satisfied: filelock in /usr/local/lib/python3.10/dist-packages (from transformers) (3.16.1)\n",
            "Requirement already satisfied: huggingface-hub<1.0,>=0.23.2 in /usr/local/lib/python3.10/dist-packages (from transformers) (0.26.3)\n",
            "Requirement already satisfied: numpy>=1.17 in /usr/local/lib/python3.10/dist-packages (from transformers) (1.26.4)\n",
            "Requirement already satisfied: packaging>=20.0 in /usr/local/lib/python3.10/dist-packages (from transformers) (24.2)\n",
            "Requirement already satisfied: pyyaml>=5.1 in /usr/local/lib/python3.10/dist-packages (from transformers) (6.0.2)\n",
            "Requirement already satisfied: regex!=2019.12.17 in /usr/local/lib/python3.10/dist-packages (from transformers) (2024.9.11)\n",
            "Requirement already satisfied: requests in /usr/local/lib/python3.10/dist-packages (from transformers) (2.32.3)\n",
            "Requirement already satisfied: tokenizers<0.21,>=0.20 in /usr/local/lib/python3.10/dist-packages (from transformers) (0.20.3)\n",
            "Requirement already satisfied: safetensors>=0.4.1 in /usr/local/lib/python3.10/dist-packages (from transformers) (0.4.5)\n",
            "Requirement already satisfied: tqdm>=4.27 in /usr/local/lib/python3.10/dist-packages (from transformers) (4.66.6)\n",
            "Requirement already satisfied: typing-extensions>=4.8.0 in /usr/local/lib/python3.10/dist-packages (from torch) (4.12.2)\n",
            "Requirement already satisfied: networkx in /usr/local/lib/python3.10/dist-packages (from torch) (3.4.2)\n",
            "Requirement already satisfied: jinja2 in /usr/local/lib/python3.10/dist-packages (from torch) (3.1.4)\n",
            "Requirement already satisfied: fsspec in /usr/local/lib/python3.10/dist-packages (from torch) (2024.10.0)\n",
            "Requirement already satisfied: sympy==1.13.1 in /usr/local/lib/python3.10/dist-packages (from torch) (1.13.1)\n",
            "Requirement already satisfied: mpmath<1.4,>=1.1.0 in /usr/local/lib/python3.10/dist-packages (from sympy==1.13.1->torch) (1.3.0)\n",
            "Requirement already satisfied: anyio in /usr/local/lib/python3.10/dist-packages (from httpx~=0.27->python-telegram-bot) (3.7.1)\n",
            "Requirement already satisfied: certifi in /usr/local/lib/python3.10/dist-packages (from httpx~=0.27->python-telegram-bot) (2024.8.30)\n",
            "Requirement already satisfied: httpcore==1.* in /usr/local/lib/python3.10/dist-packages (from httpx~=0.27->python-telegram-bot) (1.0.7)\n",
            "Requirement already satisfied: idna in /usr/local/lib/python3.10/dist-packages (from httpx~=0.27->python-telegram-bot) (3.10)\n",
            "Requirement already satisfied: h11<0.15,>=0.13 in /usr/local/lib/python3.10/dist-packages (from httpcore==1.*->httpx~=0.27->python-telegram-bot) (0.14.0)\n",
            "Requirement already satisfied: MarkupSafe>=2.0 in /usr/local/lib/python3.10/dist-packages (from jinja2->torch) (3.0.2)\n",
            "Requirement already satisfied: charset-normalizer<4,>=2 in /usr/local/lib/python3.10/dist-packages (from requests->transformers) (3.4.0)\n",
            "Requirement already satisfied: urllib3<3,>=1.21.1 in /usr/local/lib/python3.10/dist-packages (from requests->transformers) (2.2.3)\n",
            "Requirement already satisfied: sniffio>=1.1 in /usr/local/lib/python3.10/dist-packages (from anyio->httpx~=0.27->python-telegram-bot) (1.3.1)\n",
            "Requirement already satisfied: exceptiongroup in /usr/local/lib/python3.10/dist-packages (from anyio->httpx~=0.27->python-telegram-bot) (1.2.2)\n"
          ]
        }
      ],
      "source": [
        "!pip install python-telegram-bot transformers torch\n"
      ]
    },
    {
      "cell_type": "code",
      "execution_count": null,
      "metadata": {
        "colab": {
          "background_save": true,
          "base_uri": "https://localhost:8080/"
        },
        "id": "dMRGHPSwxx4K",
        "outputId": "44db3958-70e5-4a3a-ce0a-6fb26e67f862"
      },
      "outputs": [
        {
          "name": "stdout",
          "output_type": "stream",
          "text": [
            "Drive already mounted at /content/drive; to attempt to forcibly remount, call drive.mount(\"/content/drive\", force_remount=True).\n"
          ]
        }
      ],
      "source": [
        "import nest_asyncio\n",
        "from telegram import Update\n",
        "from telegram.ext import Application, CommandHandler, MessageHandler, filters\n",
        "from transformers import BartForConditionalGeneration, BartTokenizer\n",
        "import torch\n",
        "from google.colab import drive\n",
        "\n",
        "nest_asyncio.apply()\n",
        "\n",
        "drive.mount('/content/drive')\n",
        "file_path = '/content/drive/My Drive/nlp/final_project_nlp_model'\n",
        "\n",
        "model = BartForConditionalGeneration.from_pretrained(file_path)\n",
        "tokenizer = BartTokenizer.from_pretrained(file_path)\n",
        "\n",
        "device = torch.device(\"cuda\" if torch.cuda.is_available() else \"cpu\")\n",
        "model = model.to(device)\n",
        "\n",
        "TOKEN = \"7615250432:AAGiQ6ruWbEUvFtdhAyZU_Xzt0spYQkBYu8\"\n",
        "\n",
        "application = Application.builder().token(TOKEN).build()\n",
        "\n",
        "async def start(update: Update, context):\n",
        "    await update.message.reply_text(\"Hello! I'm your recipe bot. Send me a list of ingredients and I'll give you a recipe title.\")\n",
        "\n",
        "def generate_recipe(ingredients_input):\n",
        "    \"\"\"Generate a recipe using the model.\"\"\"\n",
        "    inputs = tokenizer(ingredients_input, return_tensors=\"pt\").to(device)\n",
        "    generated_ids = model.generate(inputs['input_ids'], max_length=50, num_beams=5, early_stopping=True)\n",
        "    return tokenizer.decode(generated_ids[0], skip_special_tokens=True)\n",
        "\n",
        "async def handle_message(update: Update, context):\n",
        "    ingredients_input = update.message.text\n",
        "    recipe_title = generate_recipe(ingredients_input)\n",
        "    await update.message.reply_text(f\"Recipe for your ingredients ({ingredients_input})\\n Recipe Title For Given Ingredients: {recipe_title}\")\n",
        "\n",
        "application.add_handler(CommandHandler('start', start))\n",
        "application.add_handler(MessageHandler(filters.TEXT & ~filters.COMMAND, handle_message))\n",
        "\n",
        "application.run_polling()\n"
      ]
    },
    {
      "cell_type": "code",
      "execution_count": null,
      "metadata": {
        "id": "H_cSKYFJ1BNY"
      },
      "outputs": [],
      "source": []
    }
  ],
  "metadata": {
    "colab": {
      "machine_shape": "hm",
      "provenance": []
    },
    "kernelspec": {
      "display_name": "Python 3",
      "name": "python3"
    },
    "language_info": {
      "name": "python"
    },
    "widgets": {
      "application/vnd.jupyter.widget-state+json": {
        "02729218b25f4149b5e6f4e7c76a49d9": {
          "model_module": "@jupyter-widgets/base",
          "model_module_version": "1.2.0",
          "model_name": "LayoutModel",
          "state": {
            "_model_module": "@jupyter-widgets/base",
            "_model_module_version": "1.2.0",
            "_model_name": "LayoutModel",
            "_view_count": null,
            "_view_module": "@jupyter-widgets/base",
            "_view_module_version": "1.2.0",
            "_view_name": "LayoutView",
            "align_content": null,
            "align_items": null,
            "align_self": null,
            "border": null,
            "bottom": null,
            "display": null,
            "flex": null,
            "flex_flow": null,
            "grid_area": null,
            "grid_auto_columns": null,
            "grid_auto_flow": null,
            "grid_auto_rows": null,
            "grid_column": null,
            "grid_gap": null,
            "grid_row": null,
            "grid_template_areas": null,
            "grid_template_columns": null,
            "grid_template_rows": null,
            "height": null,
            "justify_content": null,
            "justify_items": null,
            "left": null,
            "margin": null,
            "max_height": null,
            "max_width": null,
            "min_height": null,
            "min_width": null,
            "object_fit": null,
            "object_position": null,
            "order": null,
            "overflow": null,
            "overflow_x": null,
            "overflow_y": null,
            "padding": null,
            "right": null,
            "top": null,
            "visibility": null,
            "width": null
          }
        },
        "05f18a5f632f4fbd9f95c75ffe0d57a2": {
          "model_module": "@jupyter-widgets/controls",
          "model_module_version": "1.5.0",
          "model_name": "FloatProgressModel",
          "state": {
            "_dom_classes": [],
            "_model_module": "@jupyter-widgets/controls",
            "_model_module_version": "1.5.0",
            "_model_name": "FloatProgressModel",
            "_view_count": null,
            "_view_module": "@jupyter-widgets/controls",
            "_view_module_version": "1.5.0",
            "_view_name": "ProgressView",
            "bar_style": "success",
            "description": "",
            "description_tooltip": null,
            "layout": "IPY_MODEL_146ef28818e54d43be8dc92aa986af07",
            "max": 557709915,
            "min": 0,
            "orientation": "horizontal",
            "style": "IPY_MODEL_229cda0cc8be401ea0d70839724e8bb8",
            "value": 557709915
          }
        },
        "066612afb63f486fad6b7bed890c9726": {
          "model_module": "@jupyter-widgets/base",
          "model_module_version": "1.2.0",
          "model_name": "LayoutModel",
          "state": {
            "_model_module": "@jupyter-widgets/base",
            "_model_module_version": "1.2.0",
            "_model_name": "LayoutModel",
            "_view_count": null,
            "_view_module": "@jupyter-widgets/base",
            "_view_module_version": "1.2.0",
            "_view_name": "LayoutView",
            "align_content": null,
            "align_items": null,
            "align_self": null,
            "border": null,
            "bottom": null,
            "display": null,
            "flex": null,
            "flex_flow": null,
            "grid_area": null,
            "grid_auto_columns": null,
            "grid_auto_flow": null,
            "grid_auto_rows": null,
            "grid_column": null,
            "grid_gap": null,
            "grid_row": null,
            "grid_template_areas": null,
            "grid_template_columns": null,
            "grid_template_rows": null,
            "height": null,
            "justify_content": null,
            "justify_items": null,
            "left": null,
            "margin": null,
            "max_height": null,
            "max_width": null,
            "min_height": null,
            "min_width": null,
            "object_fit": null,
            "object_position": null,
            "order": null,
            "overflow": null,
            "overflow_x": null,
            "overflow_y": null,
            "padding": null,
            "right": null,
            "top": null,
            "visibility": null,
            "width": null
          }
        },
        "10dd798863364559b637ed3cacf92626": {
          "model_module": "@jupyter-widgets/controls",
          "model_module_version": "1.5.0",
          "model_name": "DescriptionStyleModel",
          "state": {
            "_model_module": "@jupyter-widgets/controls",
            "_model_module_version": "1.5.0",
            "_model_name": "DescriptionStyleModel",
            "_view_count": null,
            "_view_module": "@jupyter-widgets/base",
            "_view_module_version": "1.2.0",
            "_view_name": "StyleView",
            "description_width": ""
          }
        },
        "134e8ff94d9b4336869b83393d6b2088": {
          "model_module": "@jupyter-widgets/base",
          "model_module_version": "1.2.0",
          "model_name": "LayoutModel",
          "state": {
            "_model_module": "@jupyter-widgets/base",
            "_model_module_version": "1.2.0",
            "_model_name": "LayoutModel",
            "_view_count": null,
            "_view_module": "@jupyter-widgets/base",
            "_view_module_version": "1.2.0",
            "_view_name": "LayoutView",
            "align_content": null,
            "align_items": null,
            "align_self": null,
            "border": null,
            "bottom": null,
            "display": null,
            "flex": null,
            "flex_flow": null,
            "grid_area": null,
            "grid_auto_columns": null,
            "grid_auto_flow": null,
            "grid_auto_rows": null,
            "grid_column": null,
            "grid_gap": null,
            "grid_row": null,
            "grid_template_areas": null,
            "grid_template_columns": null,
            "grid_template_rows": null,
            "height": null,
            "justify_content": null,
            "justify_items": null,
            "left": null,
            "margin": null,
            "max_height": null,
            "max_width": null,
            "min_height": null,
            "min_width": null,
            "object_fit": null,
            "object_position": null,
            "order": null,
            "overflow": null,
            "overflow_x": null,
            "overflow_y": null,
            "padding": null,
            "right": null,
            "top": null,
            "visibility": null,
            "width": null
          }
        },
        "146ef28818e54d43be8dc92aa986af07": {
          "model_module": "@jupyter-widgets/base",
          "model_module_version": "1.2.0",
          "model_name": "LayoutModel",
          "state": {
            "_model_module": "@jupyter-widgets/base",
            "_model_module_version": "1.2.0",
            "_model_name": "LayoutModel",
            "_view_count": null,
            "_view_module": "@jupyter-widgets/base",
            "_view_module_version": "1.2.0",
            "_view_name": "LayoutView",
            "align_content": null,
            "align_items": null,
            "align_self": null,
            "border": null,
            "bottom": null,
            "display": null,
            "flex": null,
            "flex_flow": null,
            "grid_area": null,
            "grid_auto_columns": null,
            "grid_auto_flow": null,
            "grid_auto_rows": null,
            "grid_column": null,
            "grid_gap": null,
            "grid_row": null,
            "grid_template_areas": null,
            "grid_template_columns": null,
            "grid_template_rows": null,
            "height": null,
            "justify_content": null,
            "justify_items": null,
            "left": null,
            "margin": null,
            "max_height": null,
            "max_width": null,
            "min_height": null,
            "min_width": null,
            "object_fit": null,
            "object_position": null,
            "order": null,
            "overflow": null,
            "overflow_x": null,
            "overflow_y": null,
            "padding": null,
            "right": null,
            "top": null,
            "visibility": null,
            "width": null
          }
        },
        "1ee9fdef55e54cd18c4d1d6faf8eca6c": {
          "model_module": "@jupyter-widgets/controls",
          "model_module_version": "1.5.0",
          "model_name": "ProgressStyleModel",
          "state": {
            "_model_module": "@jupyter-widgets/controls",
            "_model_module_version": "1.5.0",
            "_model_name": "ProgressStyleModel",
            "_view_count": null,
            "_view_module": "@jupyter-widgets/base",
            "_view_module_version": "1.2.0",
            "_view_name": "StyleView",
            "bar_color": null,
            "description_width": ""
          }
        },
        "209fbd24a2834c1496742803516cb103": {
          "model_module": "@jupyter-widgets/controls",
          "model_module_version": "1.5.0",
          "model_name": "HTMLModel",
          "state": {
            "_dom_classes": [],
            "_model_module": "@jupyter-widgets/controls",
            "_model_module_version": "1.5.0",
            "_model_name": "HTMLModel",
            "_view_count": null,
            "_view_module": "@jupyter-widgets/controls",
            "_view_module_version": "1.5.0",
            "_view_name": "HTMLView",
            "description": "",
            "description_tooltip": null,
            "layout": "IPY_MODEL_bb603aeda8b1453dbf5015de6092e51d",
            "placeholder": "​",
            "style": "IPY_MODEL_a0a2fc82ad844fe98a8fc2ab0af369f9",
            "value": "model.safetensors: 100%"
          }
        },
        "220c9aacbe664f6c871b47f7bb18b58d": {
          "model_module": "@jupyter-widgets/controls",
          "model_module_version": "1.5.0",
          "model_name": "DescriptionStyleModel",
          "state": {
            "_model_module": "@jupyter-widgets/controls",
            "_model_module_version": "1.5.0",
            "_model_name": "DescriptionStyleModel",
            "_view_count": null,
            "_view_module": "@jupyter-widgets/base",
            "_view_module_version": "1.2.0",
            "_view_name": "StyleView",
            "description_width": ""
          }
        },
        "229cda0cc8be401ea0d70839724e8bb8": {
          "model_module": "@jupyter-widgets/controls",
          "model_module_version": "1.5.0",
          "model_name": "ProgressStyleModel",
          "state": {
            "_model_module": "@jupyter-widgets/controls",
            "_model_module_version": "1.5.0",
            "_model_name": "ProgressStyleModel",
            "_view_count": null,
            "_view_module": "@jupyter-widgets/base",
            "_view_module_version": "1.2.0",
            "_view_name": "StyleView",
            "bar_color": null,
            "description_width": ""
          }
        },
        "24b0928087254f9b90f7245460741108": {
          "model_module": "@jupyter-widgets/controls",
          "model_module_version": "1.5.0",
          "model_name": "DescriptionStyleModel",
          "state": {
            "_model_module": "@jupyter-widgets/controls",
            "_model_module_version": "1.5.0",
            "_model_name": "DescriptionStyleModel",
            "_view_count": null,
            "_view_module": "@jupyter-widgets/base",
            "_view_module_version": "1.2.0",
            "_view_name": "StyleView",
            "description_width": ""
          }
        },
        "24f1818e3f9d4f45a9b0cbe33a2ceb47": {
          "model_module": "@jupyter-widgets/base",
          "model_module_version": "1.2.0",
          "model_name": "LayoutModel",
          "state": {
            "_model_module": "@jupyter-widgets/base",
            "_model_module_version": "1.2.0",
            "_model_name": "LayoutModel",
            "_view_count": null,
            "_view_module": "@jupyter-widgets/base",
            "_view_module_version": "1.2.0",
            "_view_name": "LayoutView",
            "align_content": null,
            "align_items": null,
            "align_self": null,
            "border": null,
            "bottom": null,
            "display": null,
            "flex": null,
            "flex_flow": null,
            "grid_area": null,
            "grid_auto_columns": null,
            "grid_auto_flow": null,
            "grid_auto_rows": null,
            "grid_column": null,
            "grid_gap": null,
            "grid_row": null,
            "grid_template_areas": null,
            "grid_template_columns": null,
            "grid_template_rows": null,
            "height": null,
            "justify_content": null,
            "justify_items": null,
            "left": null,
            "margin": null,
            "max_height": null,
            "max_width": null,
            "min_height": null,
            "min_width": null,
            "object_fit": null,
            "object_position": null,
            "order": null,
            "overflow": null,
            "overflow_x": null,
            "overflow_y": null,
            "padding": null,
            "right": null,
            "top": null,
            "visibility": null,
            "width": null
          }
        },
        "28910b3f5a4242a4b4fcc2aa47222937": {
          "model_module": "@jupyter-widgets/base",
          "model_module_version": "1.2.0",
          "model_name": "LayoutModel",
          "state": {
            "_model_module": "@jupyter-widgets/base",
            "_model_module_version": "1.2.0",
            "_model_name": "LayoutModel",
            "_view_count": null,
            "_view_module": "@jupyter-widgets/base",
            "_view_module_version": "1.2.0",
            "_view_name": "LayoutView",
            "align_content": null,
            "align_items": null,
            "align_self": null,
            "border": null,
            "bottom": null,
            "display": null,
            "flex": null,
            "flex_flow": null,
            "grid_area": null,
            "grid_auto_columns": null,
            "grid_auto_flow": null,
            "grid_auto_rows": null,
            "grid_column": null,
            "grid_gap": null,
            "grid_row": null,
            "grid_template_areas": null,
            "grid_template_columns": null,
            "grid_template_rows": null,
            "height": null,
            "justify_content": null,
            "justify_items": null,
            "left": null,
            "margin": null,
            "max_height": null,
            "max_width": null,
            "min_height": null,
            "min_width": null,
            "object_fit": null,
            "object_position": null,
            "order": null,
            "overflow": null,
            "overflow_x": null,
            "overflow_y": null,
            "padding": null,
            "right": null,
            "top": null,
            "visibility": null,
            "width": null
          }
        },
        "295f78340806427c9c89b3d6620a522c": {
          "model_module": "@jupyter-widgets/controls",
          "model_module_version": "1.5.0",
          "model_name": "HBoxModel",
          "state": {
            "_dom_classes": [],
            "_model_module": "@jupyter-widgets/controls",
            "_model_module_version": "1.5.0",
            "_model_name": "HBoxModel",
            "_view_count": null,
            "_view_module": "@jupyter-widgets/controls",
            "_view_module_version": "1.5.0",
            "_view_name": "HBoxView",
            "box_style": "",
            "children": [
              "IPY_MODEL_4694ff9ec152409c8f4c588b7b8a00d7",
              "IPY_MODEL_a2e1e30b1a7e408bb63f60464182a005",
              "IPY_MODEL_7ab8db000cdd4e28b3781700824c9301"
            ],
            "layout": "IPY_MODEL_9d7eb1bcb5ad4b72901eb2e850feb26d"
          }
        },
        "299efc8e6d9d4f0f83f2325cde7e1500": {
          "model_module": "@jupyter-widgets/controls",
          "model_module_version": "1.5.0",
          "model_name": "DescriptionStyleModel",
          "state": {
            "_model_module": "@jupyter-widgets/controls",
            "_model_module_version": "1.5.0",
            "_model_name": "DescriptionStyleModel",
            "_view_count": null,
            "_view_module": "@jupyter-widgets/base",
            "_view_module_version": "1.2.0",
            "_view_name": "StyleView",
            "description_width": ""
          }
        },
        "331e0ffb5be14639946fecb319d58f28": {
          "model_module": "@jupyter-widgets/controls",
          "model_module_version": "1.5.0",
          "model_name": "FloatProgressModel",
          "state": {
            "_dom_classes": [],
            "_model_module": "@jupyter-widgets/controls",
            "_model_module_version": "1.5.0",
            "_model_name": "FloatProgressModel",
            "_view_count": null,
            "_view_module": "@jupyter-widgets/controls",
            "_view_module_version": "1.5.0",
            "_view_name": "ProgressView",
            "bar_style": "success",
            "description": "",
            "description_tooltip": null,
            "layout": "IPY_MODEL_da9c65d9496140d1b1f0446633ba4bf3",
            "max": 456318,
            "min": 0,
            "orientation": "horizontal",
            "style": "IPY_MODEL_b88c8171a0954540b10f45b5e1ceb12c",
            "value": 456318
          }
        },
        "35ddf275b8b549ca943965f00f92b9db": {
          "model_module": "@jupyter-widgets/base",
          "model_module_version": "1.2.0",
          "model_name": "LayoutModel",
          "state": {
            "_model_module": "@jupyter-widgets/base",
            "_model_module_version": "1.2.0",
            "_model_name": "LayoutModel",
            "_view_count": null,
            "_view_module": "@jupyter-widgets/base",
            "_view_module_version": "1.2.0",
            "_view_name": "LayoutView",
            "align_content": null,
            "align_items": null,
            "align_self": null,
            "border": null,
            "bottom": null,
            "display": null,
            "flex": null,
            "flex_flow": null,
            "grid_area": null,
            "grid_auto_columns": null,
            "grid_auto_flow": null,
            "grid_auto_rows": null,
            "grid_column": null,
            "grid_gap": null,
            "grid_row": null,
            "grid_template_areas": null,
            "grid_template_columns": null,
            "grid_template_rows": null,
            "height": null,
            "justify_content": null,
            "justify_items": null,
            "left": null,
            "margin": null,
            "max_height": null,
            "max_width": null,
            "min_height": null,
            "min_width": null,
            "object_fit": null,
            "object_position": null,
            "order": null,
            "overflow": null,
            "overflow_x": null,
            "overflow_y": null,
            "padding": null,
            "right": null,
            "top": null,
            "visibility": null,
            "width": null
          }
        },
        "42862d951a4e473cbf1ce0112889e0e9": {
          "model_module": "@jupyter-widgets/base",
          "model_module_version": "1.2.0",
          "model_name": "LayoutModel",
          "state": {
            "_model_module": "@jupyter-widgets/base",
            "_model_module_version": "1.2.0",
            "_model_name": "LayoutModel",
            "_view_count": null,
            "_view_module": "@jupyter-widgets/base",
            "_view_module_version": "1.2.0",
            "_view_name": "LayoutView",
            "align_content": null,
            "align_items": null,
            "align_self": null,
            "border": null,
            "bottom": null,
            "display": null,
            "flex": null,
            "flex_flow": null,
            "grid_area": null,
            "grid_auto_columns": null,
            "grid_auto_flow": null,
            "grid_auto_rows": null,
            "grid_column": null,
            "grid_gap": null,
            "grid_row": null,
            "grid_template_areas": null,
            "grid_template_columns": null,
            "grid_template_rows": null,
            "height": null,
            "justify_content": null,
            "justify_items": null,
            "left": null,
            "margin": null,
            "max_height": null,
            "max_width": null,
            "min_height": null,
            "min_width": null,
            "object_fit": null,
            "object_position": null,
            "order": null,
            "overflow": null,
            "overflow_x": null,
            "overflow_y": null,
            "padding": null,
            "right": null,
            "top": null,
            "visibility": null,
            "width": null
          }
        },
        "44f3f6f0f8754b0f8cc1252aba7c1b09": {
          "model_module": "@jupyter-widgets/base",
          "model_module_version": "1.2.0",
          "model_name": "LayoutModel",
          "state": {
            "_model_module": "@jupyter-widgets/base",
            "_model_module_version": "1.2.0",
            "_model_name": "LayoutModel",
            "_view_count": null,
            "_view_module": "@jupyter-widgets/base",
            "_view_module_version": "1.2.0",
            "_view_name": "LayoutView",
            "align_content": null,
            "align_items": null,
            "align_self": null,
            "border": null,
            "bottom": null,
            "display": null,
            "flex": null,
            "flex_flow": null,
            "grid_area": null,
            "grid_auto_columns": null,
            "grid_auto_flow": null,
            "grid_auto_rows": null,
            "grid_column": null,
            "grid_gap": null,
            "grid_row": null,
            "grid_template_areas": null,
            "grid_template_columns": null,
            "grid_template_rows": null,
            "height": null,
            "justify_content": null,
            "justify_items": null,
            "left": null,
            "margin": null,
            "max_height": null,
            "max_width": null,
            "min_height": null,
            "min_width": null,
            "object_fit": null,
            "object_position": null,
            "order": null,
            "overflow": null,
            "overflow_x": null,
            "overflow_y": null,
            "padding": null,
            "right": null,
            "top": null,
            "visibility": null,
            "width": null
          }
        },
        "45db872bad1342adbc0db0abb9fceef3": {
          "model_module": "@jupyter-widgets/controls",
          "model_module_version": "1.5.0",
          "model_name": "HTMLModel",
          "state": {
            "_dom_classes": [],
            "_model_module": "@jupyter-widgets/controls",
            "_model_module_version": "1.5.0",
            "_model_name": "HTMLModel",
            "_view_count": null,
            "_view_module": "@jupyter-widgets/controls",
            "_view_module_version": "1.5.0",
            "_view_name": "HTMLView",
            "description": "",
            "description_tooltip": null,
            "layout": "IPY_MODEL_b3bec8e0e7434c4184118bec9f9f85ee",
            "placeholder": "​",
            "style": "IPY_MODEL_f81aeed8b8684dc3868f0b415aab3f25",
            "value": " 1.36M/1.36M [00:00&lt;00:00, 22.7MB/s]"
          }
        },
        "4694ff9ec152409c8f4c588b7b8a00d7": {
          "model_module": "@jupyter-widgets/controls",
          "model_module_version": "1.5.0",
          "model_name": "HTMLModel",
          "state": {
            "_dom_classes": [],
            "_model_module": "@jupyter-widgets/controls",
            "_model_module_version": "1.5.0",
            "_model_name": "HTMLModel",
            "_view_count": null,
            "_view_module": "@jupyter-widgets/controls",
            "_view_module_version": "1.5.0",
            "_view_name": "HTMLView",
            "description": "",
            "description_tooltip": null,
            "layout": "IPY_MODEL_42862d951a4e473cbf1ce0112889e0e9",
            "placeholder": "​",
            "style": "IPY_MODEL_8d57cd39d3094529af79a9ab51e9da0c",
            "value": "vocab.json: 100%"
          }
        },
        "50b0f6e710ef4d8bbd74e6113687ef33": {
          "model_module": "@jupyter-widgets/controls",
          "model_module_version": "1.5.0",
          "model_name": "ProgressStyleModel",
          "state": {
            "_model_module": "@jupyter-widgets/controls",
            "_model_module_version": "1.5.0",
            "_model_name": "ProgressStyleModel",
            "_view_count": null,
            "_view_module": "@jupyter-widgets/base",
            "_view_module_version": "1.2.0",
            "_view_name": "StyleView",
            "bar_color": null,
            "description_width": ""
          }
        },
        "511ddb3a9b1646d5b3a961dc3ac142dd": {
          "model_module": "@jupyter-widgets/base",
          "model_module_version": "1.2.0",
          "model_name": "LayoutModel",
          "state": {
            "_model_module": "@jupyter-widgets/base",
            "_model_module_version": "1.2.0",
            "_model_name": "LayoutModel",
            "_view_count": null,
            "_view_module": "@jupyter-widgets/base",
            "_view_module_version": "1.2.0",
            "_view_name": "LayoutView",
            "align_content": null,
            "align_items": null,
            "align_self": null,
            "border": null,
            "bottom": null,
            "display": null,
            "flex": null,
            "flex_flow": null,
            "grid_area": null,
            "grid_auto_columns": null,
            "grid_auto_flow": null,
            "grid_auto_rows": null,
            "grid_column": null,
            "grid_gap": null,
            "grid_row": null,
            "grid_template_areas": null,
            "grid_template_columns": null,
            "grid_template_rows": null,
            "height": null,
            "justify_content": null,
            "justify_items": null,
            "left": null,
            "margin": null,
            "max_height": null,
            "max_width": null,
            "min_height": null,
            "min_width": null,
            "object_fit": null,
            "object_position": null,
            "order": null,
            "overflow": null,
            "overflow_x": null,
            "overflow_y": null,
            "padding": null,
            "right": null,
            "top": null,
            "visibility": null,
            "width": null
          }
        },
        "5cf05ea870d744ba8c23b6a4719deb3b": {
          "model_module": "@jupyter-widgets/base",
          "model_module_version": "1.2.0",
          "model_name": "LayoutModel",
          "state": {
            "_model_module": "@jupyter-widgets/base",
            "_model_module_version": "1.2.0",
            "_model_name": "LayoutModel",
            "_view_count": null,
            "_view_module": "@jupyter-widgets/base",
            "_view_module_version": "1.2.0",
            "_view_name": "LayoutView",
            "align_content": null,
            "align_items": null,
            "align_self": null,
            "border": null,
            "bottom": null,
            "display": null,
            "flex": null,
            "flex_flow": null,
            "grid_area": null,
            "grid_auto_columns": null,
            "grid_auto_flow": null,
            "grid_auto_rows": null,
            "grid_column": null,
            "grid_gap": null,
            "grid_row": null,
            "grid_template_areas": null,
            "grid_template_columns": null,
            "grid_template_rows": null,
            "height": null,
            "justify_content": null,
            "justify_items": null,
            "left": null,
            "margin": null,
            "max_height": null,
            "max_width": null,
            "min_height": null,
            "min_width": null,
            "object_fit": null,
            "object_position": null,
            "order": null,
            "overflow": null,
            "overflow_x": null,
            "overflow_y": null,
            "padding": null,
            "right": null,
            "top": null,
            "visibility": null,
            "width": null
          }
        },
        "606ebda5613e483d9a68233b524be11e": {
          "model_module": "@jupyter-widgets/controls",
          "model_module_version": "1.5.0",
          "model_name": "HTMLModel",
          "state": {
            "_dom_classes": [],
            "_model_module": "@jupyter-widgets/controls",
            "_model_module_version": "1.5.0",
            "_model_name": "HTMLModel",
            "_view_count": null,
            "_view_module": "@jupyter-widgets/controls",
            "_view_module_version": "1.5.0",
            "_view_name": "HTMLView",
            "description": "",
            "description_tooltip": null,
            "layout": "IPY_MODEL_02729218b25f4149b5e6f4e7c76a49d9",
            "placeholder": "​",
            "style": "IPY_MODEL_24b0928087254f9b90f7245460741108",
            "value": "tokenizer.json: 100%"
          }
        },
        "6cf7cf069e084ca5a9bc1f053722202d": {
          "model_module": "@jupyter-widgets/base",
          "model_module_version": "1.2.0",
          "model_name": "LayoutModel",
          "state": {
            "_model_module": "@jupyter-widgets/base",
            "_model_module_version": "1.2.0",
            "_model_name": "LayoutModel",
            "_view_count": null,
            "_view_module": "@jupyter-widgets/base",
            "_view_module_version": "1.2.0",
            "_view_name": "LayoutView",
            "align_content": null,
            "align_items": null,
            "align_self": null,
            "border": null,
            "bottom": null,
            "display": null,
            "flex": null,
            "flex_flow": null,
            "grid_area": null,
            "grid_auto_columns": null,
            "grid_auto_flow": null,
            "grid_auto_rows": null,
            "grid_column": null,
            "grid_gap": null,
            "grid_row": null,
            "grid_template_areas": null,
            "grid_template_columns": null,
            "grid_template_rows": null,
            "height": null,
            "justify_content": null,
            "justify_items": null,
            "left": null,
            "margin": null,
            "max_height": null,
            "max_width": null,
            "min_height": null,
            "min_width": null,
            "object_fit": null,
            "object_position": null,
            "order": null,
            "overflow": null,
            "overflow_x": null,
            "overflow_y": null,
            "padding": null,
            "right": null,
            "top": null,
            "visibility": null,
            "width": null
          }
        },
        "739098255a71487aa5f914ed8ece9546": {
          "model_module": "@jupyter-widgets/controls",
          "model_module_version": "1.5.0",
          "model_name": "HTMLModel",
          "state": {
            "_dom_classes": [],
            "_model_module": "@jupyter-widgets/controls",
            "_model_module_version": "1.5.0",
            "_model_name": "HTMLModel",
            "_view_count": null,
            "_view_module": "@jupyter-widgets/controls",
            "_view_module_version": "1.5.0",
            "_view_name": "HTMLView",
            "description": "",
            "description_tooltip": null,
            "layout": "IPY_MODEL_44f3f6f0f8754b0f8cc1252aba7c1b09",
            "placeholder": "​",
            "style": "IPY_MODEL_299efc8e6d9d4f0f83f2325cde7e1500",
            "value": " 456k/456k [00:00&lt;00:00, 15.5MB/s]"
          }
        },
        "7883a981c13d4c1581b5001f63d5ffcd": {
          "model_module": "@jupyter-widgets/controls",
          "model_module_version": "1.5.0",
          "model_name": "HTMLModel",
          "state": {
            "_dom_classes": [],
            "_model_module": "@jupyter-widgets/controls",
            "_model_module_version": "1.5.0",
            "_model_name": "HTMLModel",
            "_view_count": null,
            "_view_module": "@jupyter-widgets/controls",
            "_view_module_version": "1.5.0",
            "_view_name": "HTMLView",
            "description": "",
            "description_tooltip": null,
            "layout": "IPY_MODEL_24f1818e3f9d4f45a9b0cbe33a2ceb47",
            "placeholder": "​",
            "style": "IPY_MODEL_10dd798863364559b637ed3cacf92626",
            "value": "config.json: 100%"
          }
        },
        "7ab8db000cdd4e28b3781700824c9301": {
          "model_module": "@jupyter-widgets/controls",
          "model_module_version": "1.5.0",
          "model_name": "HTMLModel",
          "state": {
            "_dom_classes": [],
            "_model_module": "@jupyter-widgets/controls",
            "_model_module_version": "1.5.0",
            "_model_name": "HTMLModel",
            "_view_count": null,
            "_view_module": "@jupyter-widgets/controls",
            "_view_module_version": "1.5.0",
            "_view_name": "HTMLView",
            "description": "",
            "description_tooltip": null,
            "layout": "IPY_MODEL_066612afb63f486fad6b7bed890c9726",
            "placeholder": "​",
            "style": "IPY_MODEL_be20512ddf984212af5d868efd1b071a",
            "value": " 899k/899k [00:00&lt;00:00, 12.4MB/s]"
          }
        },
        "8379402687344bca907dd8928c73e2e0": {
          "model_module": "@jupyter-widgets/base",
          "model_module_version": "1.2.0",
          "model_name": "LayoutModel",
          "state": {
            "_model_module": "@jupyter-widgets/base",
            "_model_module_version": "1.2.0",
            "_model_name": "LayoutModel",
            "_view_count": null,
            "_view_module": "@jupyter-widgets/base",
            "_view_module_version": "1.2.0",
            "_view_name": "LayoutView",
            "align_content": null,
            "align_items": null,
            "align_self": null,
            "border": null,
            "bottom": null,
            "display": null,
            "flex": null,
            "flex_flow": null,
            "grid_area": null,
            "grid_auto_columns": null,
            "grid_auto_flow": null,
            "grid_auto_rows": null,
            "grid_column": null,
            "grid_gap": null,
            "grid_row": null,
            "grid_template_areas": null,
            "grid_template_columns": null,
            "grid_template_rows": null,
            "height": null,
            "justify_content": null,
            "justify_items": null,
            "left": null,
            "margin": null,
            "max_height": null,
            "max_width": null,
            "min_height": null,
            "min_width": null,
            "object_fit": null,
            "object_position": null,
            "order": null,
            "overflow": null,
            "overflow_x": null,
            "overflow_y": null,
            "padding": null,
            "right": null,
            "top": null,
            "visibility": null,
            "width": null
          }
        },
        "87857ffe125743c38f6560215f3a1f3f": {
          "model_module": "@jupyter-widgets/base",
          "model_module_version": "1.2.0",
          "model_name": "LayoutModel",
          "state": {
            "_model_module": "@jupyter-widgets/base",
            "_model_module_version": "1.2.0",
            "_model_name": "LayoutModel",
            "_view_count": null,
            "_view_module": "@jupyter-widgets/base",
            "_view_module_version": "1.2.0",
            "_view_name": "LayoutView",
            "align_content": null,
            "align_items": null,
            "align_self": null,
            "border": null,
            "bottom": null,
            "display": null,
            "flex": null,
            "flex_flow": null,
            "grid_area": null,
            "grid_auto_columns": null,
            "grid_auto_flow": null,
            "grid_auto_rows": null,
            "grid_column": null,
            "grid_gap": null,
            "grid_row": null,
            "grid_template_areas": null,
            "grid_template_columns": null,
            "grid_template_rows": null,
            "height": null,
            "justify_content": null,
            "justify_items": null,
            "left": null,
            "margin": null,
            "max_height": null,
            "max_width": null,
            "min_height": null,
            "min_width": null,
            "object_fit": null,
            "object_position": null,
            "order": null,
            "overflow": null,
            "overflow_x": null,
            "overflow_y": null,
            "padding": null,
            "right": null,
            "top": null,
            "visibility": null,
            "width": null
          }
        },
        "8d57cd39d3094529af79a9ab51e9da0c": {
          "model_module": "@jupyter-widgets/controls",
          "model_module_version": "1.5.0",
          "model_name": "DescriptionStyleModel",
          "state": {
            "_model_module": "@jupyter-widgets/controls",
            "_model_module_version": "1.5.0",
            "_model_name": "DescriptionStyleModel",
            "_view_count": null,
            "_view_module": "@jupyter-widgets/base",
            "_view_module_version": "1.2.0",
            "_view_name": "StyleView",
            "description_width": ""
          }
        },
        "9c64a3bd3ee6418baa93338fd685f79a": {
          "model_module": "@jupyter-widgets/controls",
          "model_module_version": "1.5.0",
          "model_name": "ProgressStyleModel",
          "state": {
            "_model_module": "@jupyter-widgets/controls",
            "_model_module_version": "1.5.0",
            "_model_name": "ProgressStyleModel",
            "_view_count": null,
            "_view_module": "@jupyter-widgets/base",
            "_view_module_version": "1.2.0",
            "_view_name": "StyleView",
            "bar_color": null,
            "description_width": ""
          }
        },
        "9d7eb1bcb5ad4b72901eb2e850feb26d": {
          "model_module": "@jupyter-widgets/base",
          "model_module_version": "1.2.0",
          "model_name": "LayoutModel",
          "state": {
            "_model_module": "@jupyter-widgets/base",
            "_model_module_version": "1.2.0",
            "_model_name": "LayoutModel",
            "_view_count": null,
            "_view_module": "@jupyter-widgets/base",
            "_view_module_version": "1.2.0",
            "_view_name": "LayoutView",
            "align_content": null,
            "align_items": null,
            "align_self": null,
            "border": null,
            "bottom": null,
            "display": null,
            "flex": null,
            "flex_flow": null,
            "grid_area": null,
            "grid_auto_columns": null,
            "grid_auto_flow": null,
            "grid_auto_rows": null,
            "grid_column": null,
            "grid_gap": null,
            "grid_row": null,
            "grid_template_areas": null,
            "grid_template_columns": null,
            "grid_template_rows": null,
            "height": null,
            "justify_content": null,
            "justify_items": null,
            "left": null,
            "margin": null,
            "max_height": null,
            "max_width": null,
            "min_height": null,
            "min_width": null,
            "object_fit": null,
            "object_position": null,
            "order": null,
            "overflow": null,
            "overflow_x": null,
            "overflow_y": null,
            "padding": null,
            "right": null,
            "top": null,
            "visibility": null,
            "width": null
          }
        },
        "a0a2fc82ad844fe98a8fc2ab0af369f9": {
          "model_module": "@jupyter-widgets/controls",
          "model_module_version": "1.5.0",
          "model_name": "DescriptionStyleModel",
          "state": {
            "_model_module": "@jupyter-widgets/controls",
            "_model_module_version": "1.5.0",
            "_model_name": "DescriptionStyleModel",
            "_view_count": null,
            "_view_module": "@jupyter-widgets/base",
            "_view_module_version": "1.2.0",
            "_view_name": "StyleView",
            "description_width": ""
          }
        },
        "a2e1e30b1a7e408bb63f60464182a005": {
          "model_module": "@jupyter-widgets/controls",
          "model_module_version": "1.5.0",
          "model_name": "FloatProgressModel",
          "state": {
            "_dom_classes": [],
            "_model_module": "@jupyter-widgets/controls",
            "_model_module_version": "1.5.0",
            "_model_name": "FloatProgressModel",
            "_view_count": null,
            "_view_module": "@jupyter-widgets/controls",
            "_view_module_version": "1.5.0",
            "_view_name": "ProgressView",
            "bar_style": "success",
            "description": "",
            "description_tooltip": null,
            "layout": "IPY_MODEL_28910b3f5a4242a4b4fcc2aa47222937",
            "max": 898823,
            "min": 0,
            "orientation": "horizontal",
            "style": "IPY_MODEL_9c64a3bd3ee6418baa93338fd685f79a",
            "value": 898823
          }
        },
        "ab5ce5a023564382a438f89026a9efc1": {
          "model_module": "@jupyter-widgets/base",
          "model_module_version": "1.2.0",
          "model_name": "LayoutModel",
          "state": {
            "_model_module": "@jupyter-widgets/base",
            "_model_module_version": "1.2.0",
            "_model_name": "LayoutModel",
            "_view_count": null,
            "_view_module": "@jupyter-widgets/base",
            "_view_module_version": "1.2.0",
            "_view_name": "LayoutView",
            "align_content": null,
            "align_items": null,
            "align_self": null,
            "border": null,
            "bottom": null,
            "display": null,
            "flex": null,
            "flex_flow": null,
            "grid_area": null,
            "grid_auto_columns": null,
            "grid_auto_flow": null,
            "grid_auto_rows": null,
            "grid_column": null,
            "grid_gap": null,
            "grid_row": null,
            "grid_template_areas": null,
            "grid_template_columns": null,
            "grid_template_rows": null,
            "height": null,
            "justify_content": null,
            "justify_items": null,
            "left": null,
            "margin": null,
            "max_height": null,
            "max_width": null,
            "min_height": null,
            "min_width": null,
            "object_fit": null,
            "object_position": null,
            "order": null,
            "overflow": null,
            "overflow_x": null,
            "overflow_y": null,
            "padding": null,
            "right": null,
            "top": null,
            "visibility": null,
            "width": null
          }
        },
        "b33d62cf038a4f56909a4496b23b1b4b": {
          "model_module": "@jupyter-widgets/controls",
          "model_module_version": "1.5.0",
          "model_name": "HBoxModel",
          "state": {
            "_dom_classes": [],
            "_model_module": "@jupyter-widgets/controls",
            "_model_module_version": "1.5.0",
            "_model_name": "HBoxModel",
            "_view_count": null,
            "_view_module": "@jupyter-widgets/controls",
            "_view_module_version": "1.5.0",
            "_view_name": "HBoxView",
            "box_style": "",
            "children": [
              "IPY_MODEL_7883a981c13d4c1581b5001f63d5ffcd",
              "IPY_MODEL_b88bc5698ad84a9e96bea3c9d0de5140",
              "IPY_MODEL_ea26e4358c6944a3a88775fa1d8c1484"
            ],
            "layout": "IPY_MODEL_134e8ff94d9b4336869b83393d6b2088"
          }
        },
        "b3999fe666a249b6828db51011234d9e": {
          "model_module": "@jupyter-widgets/base",
          "model_module_version": "1.2.0",
          "model_name": "LayoutModel",
          "state": {
            "_model_module": "@jupyter-widgets/base",
            "_model_module_version": "1.2.0",
            "_model_name": "LayoutModel",
            "_view_count": null,
            "_view_module": "@jupyter-widgets/base",
            "_view_module_version": "1.2.0",
            "_view_name": "LayoutView",
            "align_content": null,
            "align_items": null,
            "align_self": null,
            "border": null,
            "bottom": null,
            "display": null,
            "flex": null,
            "flex_flow": null,
            "grid_area": null,
            "grid_auto_columns": null,
            "grid_auto_flow": null,
            "grid_auto_rows": null,
            "grid_column": null,
            "grid_gap": null,
            "grid_row": null,
            "grid_template_areas": null,
            "grid_template_columns": null,
            "grid_template_rows": null,
            "height": null,
            "justify_content": null,
            "justify_items": null,
            "left": null,
            "margin": null,
            "max_height": null,
            "max_width": null,
            "min_height": null,
            "min_width": null,
            "object_fit": null,
            "object_position": null,
            "order": null,
            "overflow": null,
            "overflow_x": null,
            "overflow_y": null,
            "padding": null,
            "right": null,
            "top": null,
            "visibility": null,
            "width": null
          }
        },
        "b3bec8e0e7434c4184118bec9f9f85ee": {
          "model_module": "@jupyter-widgets/base",
          "model_module_version": "1.2.0",
          "model_name": "LayoutModel",
          "state": {
            "_model_module": "@jupyter-widgets/base",
            "_model_module_version": "1.2.0",
            "_model_name": "LayoutModel",
            "_view_count": null,
            "_view_module": "@jupyter-widgets/base",
            "_view_module_version": "1.2.0",
            "_view_name": "LayoutView",
            "align_content": null,
            "align_items": null,
            "align_self": null,
            "border": null,
            "bottom": null,
            "display": null,
            "flex": null,
            "flex_flow": null,
            "grid_area": null,
            "grid_auto_columns": null,
            "grid_auto_flow": null,
            "grid_auto_rows": null,
            "grid_column": null,
            "grid_gap": null,
            "grid_row": null,
            "grid_template_areas": null,
            "grid_template_columns": null,
            "grid_template_rows": null,
            "height": null,
            "justify_content": null,
            "justify_items": null,
            "left": null,
            "margin": null,
            "max_height": null,
            "max_width": null,
            "min_height": null,
            "min_width": null,
            "object_fit": null,
            "object_position": null,
            "order": null,
            "overflow": null,
            "overflow_x": null,
            "overflow_y": null,
            "padding": null,
            "right": null,
            "top": null,
            "visibility": null,
            "width": null
          }
        },
        "b3da2ac2b1594a15b2b4024a02ddc620": {
          "model_module": "@jupyter-widgets/controls",
          "model_module_version": "1.5.0",
          "model_name": "DescriptionStyleModel",
          "state": {
            "_model_module": "@jupyter-widgets/controls",
            "_model_module_version": "1.5.0",
            "_model_name": "DescriptionStyleModel",
            "_view_count": null,
            "_view_module": "@jupyter-widgets/base",
            "_view_module_version": "1.2.0",
            "_view_name": "StyleView",
            "description_width": ""
          }
        },
        "b88bc5698ad84a9e96bea3c9d0de5140": {
          "model_module": "@jupyter-widgets/controls",
          "model_module_version": "1.5.0",
          "model_name": "FloatProgressModel",
          "state": {
            "_dom_classes": [],
            "_model_module": "@jupyter-widgets/controls",
            "_model_module_version": "1.5.0",
            "_model_name": "FloatProgressModel",
            "_view_count": null,
            "_view_module": "@jupyter-widgets/controls",
            "_view_module_version": "1.5.0",
            "_view_name": "ProgressView",
            "bar_style": "success",
            "description": "",
            "description_tooltip": null,
            "layout": "IPY_MODEL_87857ffe125743c38f6560215f3a1f3f",
            "max": 1716,
            "min": 0,
            "orientation": "horizontal",
            "style": "IPY_MODEL_50b0f6e710ef4d8bbd74e6113687ef33",
            "value": 1716
          }
        },
        "b88c8171a0954540b10f45b5e1ceb12c": {
          "model_module": "@jupyter-widgets/controls",
          "model_module_version": "1.5.0",
          "model_name": "ProgressStyleModel",
          "state": {
            "_model_module": "@jupyter-widgets/controls",
            "_model_module_version": "1.5.0",
            "_model_name": "ProgressStyleModel",
            "_view_count": null,
            "_view_module": "@jupyter-widgets/base",
            "_view_module_version": "1.2.0",
            "_view_name": "StyleView",
            "bar_color": null,
            "description_width": ""
          }
        },
        "bb603aeda8b1453dbf5015de6092e51d": {
          "model_module": "@jupyter-widgets/base",
          "model_module_version": "1.2.0",
          "model_name": "LayoutModel",
          "state": {
            "_model_module": "@jupyter-widgets/base",
            "_model_module_version": "1.2.0",
            "_model_name": "LayoutModel",
            "_view_count": null,
            "_view_module": "@jupyter-widgets/base",
            "_view_module_version": "1.2.0",
            "_view_name": "LayoutView",
            "align_content": null,
            "align_items": null,
            "align_self": null,
            "border": null,
            "bottom": null,
            "display": null,
            "flex": null,
            "flex_flow": null,
            "grid_area": null,
            "grid_auto_columns": null,
            "grid_auto_flow": null,
            "grid_auto_rows": null,
            "grid_column": null,
            "grid_gap": null,
            "grid_row": null,
            "grid_template_areas": null,
            "grid_template_columns": null,
            "grid_template_rows": null,
            "height": null,
            "justify_content": null,
            "justify_items": null,
            "left": null,
            "margin": null,
            "max_height": null,
            "max_width": null,
            "min_height": null,
            "min_width": null,
            "object_fit": null,
            "object_position": null,
            "order": null,
            "overflow": null,
            "overflow_x": null,
            "overflow_y": null,
            "padding": null,
            "right": null,
            "top": null,
            "visibility": null,
            "width": null
          }
        },
        "be20512ddf984212af5d868efd1b071a": {
          "model_module": "@jupyter-widgets/controls",
          "model_module_version": "1.5.0",
          "model_name": "DescriptionStyleModel",
          "state": {
            "_model_module": "@jupyter-widgets/controls",
            "_model_module_version": "1.5.0",
            "_model_name": "DescriptionStyleModel",
            "_view_count": null,
            "_view_module": "@jupyter-widgets/base",
            "_view_module_version": "1.2.0",
            "_view_name": "StyleView",
            "description_width": ""
          }
        },
        "c001ad29604b49cc87365e6beda3ff05": {
          "model_module": "@jupyter-widgets/controls",
          "model_module_version": "1.5.0",
          "model_name": "HTMLModel",
          "state": {
            "_dom_classes": [],
            "_model_module": "@jupyter-widgets/controls",
            "_model_module_version": "1.5.0",
            "_model_name": "HTMLModel",
            "_view_count": null,
            "_view_module": "@jupyter-widgets/controls",
            "_view_module_version": "1.5.0",
            "_view_name": "HTMLView",
            "description": "",
            "description_tooltip": null,
            "layout": "IPY_MODEL_b3999fe666a249b6828db51011234d9e",
            "placeholder": "​",
            "style": "IPY_MODEL_220c9aacbe664f6c871b47f7bb18b58d",
            "value": "merges.txt: 100%"
          }
        },
        "d0313535267a4610ad481bb54100e2d6": {
          "model_module": "@jupyter-widgets/controls",
          "model_module_version": "1.5.0",
          "model_name": "HTMLModel",
          "state": {
            "_dom_classes": [],
            "_model_module": "@jupyter-widgets/controls",
            "_model_module_version": "1.5.0",
            "_model_name": "HTMLModel",
            "_view_count": null,
            "_view_module": "@jupyter-widgets/controls",
            "_view_module_version": "1.5.0",
            "_view_name": "HTMLView",
            "description": "",
            "description_tooltip": null,
            "layout": "IPY_MODEL_35ddf275b8b549ca943965f00f92b9db",
            "placeholder": "​",
            "style": "IPY_MODEL_b3da2ac2b1594a15b2b4024a02ddc620",
            "value": " 558M/558M [00:03&lt;00:00, 62.0MB/s]"
          }
        },
        "da2463ddfd78409c89a5d3658c5b3d2c": {
          "model_module": "@jupyter-widgets/controls",
          "model_module_version": "1.5.0",
          "model_name": "DescriptionStyleModel",
          "state": {
            "_model_module": "@jupyter-widgets/controls",
            "_model_module_version": "1.5.0",
            "_model_name": "DescriptionStyleModel",
            "_view_count": null,
            "_view_module": "@jupyter-widgets/base",
            "_view_module_version": "1.2.0",
            "_view_name": "StyleView",
            "description_width": ""
          }
        },
        "da9c65d9496140d1b1f0446633ba4bf3": {
          "model_module": "@jupyter-widgets/base",
          "model_module_version": "1.2.0",
          "model_name": "LayoutModel",
          "state": {
            "_model_module": "@jupyter-widgets/base",
            "_model_module_version": "1.2.0",
            "_model_name": "LayoutModel",
            "_view_count": null,
            "_view_module": "@jupyter-widgets/base",
            "_view_module_version": "1.2.0",
            "_view_name": "LayoutView",
            "align_content": null,
            "align_items": null,
            "align_self": null,
            "border": null,
            "bottom": null,
            "display": null,
            "flex": null,
            "flex_flow": null,
            "grid_area": null,
            "grid_auto_columns": null,
            "grid_auto_flow": null,
            "grid_auto_rows": null,
            "grid_column": null,
            "grid_gap": null,
            "grid_row": null,
            "grid_template_areas": null,
            "grid_template_columns": null,
            "grid_template_rows": null,
            "height": null,
            "justify_content": null,
            "justify_items": null,
            "left": null,
            "margin": null,
            "max_height": null,
            "max_width": null,
            "min_height": null,
            "min_width": null,
            "object_fit": null,
            "object_position": null,
            "order": null,
            "overflow": null,
            "overflow_x": null,
            "overflow_y": null,
            "padding": null,
            "right": null,
            "top": null,
            "visibility": null,
            "width": null
          }
        },
        "df87675acf8243fd8628152834b88a4b": {
          "model_module": "@jupyter-widgets/controls",
          "model_module_version": "1.5.0",
          "model_name": "HBoxModel",
          "state": {
            "_dom_classes": [],
            "_model_module": "@jupyter-widgets/controls",
            "_model_module_version": "1.5.0",
            "_model_name": "HBoxModel",
            "_view_count": null,
            "_view_module": "@jupyter-widgets/controls",
            "_view_module_version": "1.5.0",
            "_view_name": "HBoxView",
            "box_style": "",
            "children": [
              "IPY_MODEL_209fbd24a2834c1496742803516cb103",
              "IPY_MODEL_05f18a5f632f4fbd9f95c75ffe0d57a2",
              "IPY_MODEL_d0313535267a4610ad481bb54100e2d6"
            ],
            "layout": "IPY_MODEL_8379402687344bca907dd8928c73e2e0"
          }
        },
        "ea26e4358c6944a3a88775fa1d8c1484": {
          "model_module": "@jupyter-widgets/controls",
          "model_module_version": "1.5.0",
          "model_name": "HTMLModel",
          "state": {
            "_dom_classes": [],
            "_model_module": "@jupyter-widgets/controls",
            "_model_module_version": "1.5.0",
            "_model_name": "HTMLModel",
            "_view_count": null,
            "_view_module": "@jupyter-widgets/controls",
            "_view_module_version": "1.5.0",
            "_view_name": "HTMLView",
            "description": "",
            "description_tooltip": null,
            "layout": "IPY_MODEL_5cf05ea870d744ba8c23b6a4719deb3b",
            "placeholder": "​",
            "style": "IPY_MODEL_da2463ddfd78409c89a5d3658c5b3d2c",
            "value": " 1.72k/1.72k [00:00&lt;00:00, 130kB/s]"
          }
        },
        "f671820324224ecb9845ff7b04706726": {
          "model_module": "@jupyter-widgets/controls",
          "model_module_version": "1.5.0",
          "model_name": "HBoxModel",
          "state": {
            "_dom_classes": [],
            "_model_module": "@jupyter-widgets/controls",
            "_model_module_version": "1.5.0",
            "_model_name": "HBoxModel",
            "_view_count": null,
            "_view_module": "@jupyter-widgets/controls",
            "_view_module_version": "1.5.0",
            "_view_name": "HBoxView",
            "box_style": "",
            "children": [
              "IPY_MODEL_606ebda5613e483d9a68233b524be11e",
              "IPY_MODEL_fa8f01f3bb9b4856949618d689f74123",
              "IPY_MODEL_45db872bad1342adbc0db0abb9fceef3"
            ],
            "layout": "IPY_MODEL_ab5ce5a023564382a438f89026a9efc1"
          }
        },
        "f6b890d4e8f447819534d8dadb6b8d94": {
          "model_module": "@jupyter-widgets/controls",
          "model_module_version": "1.5.0",
          "model_name": "HBoxModel",
          "state": {
            "_dom_classes": [],
            "_model_module": "@jupyter-widgets/controls",
            "_model_module_version": "1.5.0",
            "_model_name": "HBoxModel",
            "_view_count": null,
            "_view_module": "@jupyter-widgets/controls",
            "_view_module_version": "1.5.0",
            "_view_name": "HBoxView",
            "box_style": "",
            "children": [
              "IPY_MODEL_c001ad29604b49cc87365e6beda3ff05",
              "IPY_MODEL_331e0ffb5be14639946fecb319d58f28",
              "IPY_MODEL_739098255a71487aa5f914ed8ece9546"
            ],
            "layout": "IPY_MODEL_511ddb3a9b1646d5b3a961dc3ac142dd"
          }
        },
        "f81aeed8b8684dc3868f0b415aab3f25": {
          "model_module": "@jupyter-widgets/controls",
          "model_module_version": "1.5.0",
          "model_name": "DescriptionStyleModel",
          "state": {
            "_model_module": "@jupyter-widgets/controls",
            "_model_module_version": "1.5.0",
            "_model_name": "DescriptionStyleModel",
            "_view_count": null,
            "_view_module": "@jupyter-widgets/base",
            "_view_module_version": "1.2.0",
            "_view_name": "StyleView",
            "description_width": ""
          }
        },
        "fa8f01f3bb9b4856949618d689f74123": {
          "model_module": "@jupyter-widgets/controls",
          "model_module_version": "1.5.0",
          "model_name": "FloatProgressModel",
          "state": {
            "_dom_classes": [],
            "_model_module": "@jupyter-widgets/controls",
            "_model_module_version": "1.5.0",
            "_model_name": "FloatProgressModel",
            "_view_count": null,
            "_view_module": "@jupyter-widgets/controls",
            "_view_module_version": "1.5.0",
            "_view_name": "ProgressView",
            "bar_style": "success",
            "description": "",
            "description_tooltip": null,
            "layout": "IPY_MODEL_6cf7cf069e084ca5a9bc1f053722202d",
            "max": 1355863,
            "min": 0,
            "orientation": "horizontal",
            "style": "IPY_MODEL_1ee9fdef55e54cd18c4d1d6faf8eca6c",
            "value": 1355863
          }
        }
      }
    }
  },
  "nbformat": 4,
  "nbformat_minor": 0
}